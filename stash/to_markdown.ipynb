{
 "cells": [
  {
   "cell_type": "code",
   "execution_count": null,
   "metadata": {},
   "outputs": [],
   "source": [
    "import os\n",
    "from glob import glob\n",
    "from IPython.display import display, Markdown, HTML\n",
    "\n",
    "def if_has(filenames, files):\n",
    "    ''' Return true if filenames exists in basename(files) '''\n",
    "    \n",
    "    _files = [os.path.basename(f) for f in files]\n",
    "    \n",
    "    for filename in filenames:\n",
    "        if filename not in _files:\n",
    "            return False\n",
    "    else:\n",
    "        return True\n",
    "\n",
    "#init\n",
    "target_dir = './output/'\n",
    "\n",
    "#main\n",
    "for d in glob(os.path.join(target_dir, '*')):\n",
    "    \n",
    "    files = glob(os.path.join(d, '*'))\n",
    "    \n",
    "    if not if_has(('ml.png', 'saliency_vis.pdf'), files):\n",
    "        continue\n",
    "        \n",
    "    display(Markdown(f'# {d}'))\n",
    "    display(HTML(f'<img src=\"{os.path.join(d, \"saliency_vis.pdf\")}\" height=\"10\" />'))\n",
    "    # display(Markdown(f'![エビフライトライアングル]({os.path.join(d, \"saliency_vis.pdf\")} \"サンプル\")'))"
   ]
  }
 ],
 "metadata": {
  "kernelspec": {
   "display_name": "Python 3",
   "language": "python",
   "name": "python3"
  },
  "language_info": {
   "codemirror_mode": {
    "name": "ipython",
    "version": 3
   },
   "file_extension": ".py",
   "mimetype": "text/x-python",
   "name": "python",
   "nbconvert_exporter": "python",
   "pygments_lexer": "ipython3",
   "version": "3.6.3"
  },
  "toc": {
   "nav_menu": {},
   "number_sections": true,
   "sideBar": true,
   "skip_h1_title": false,
   "title_cell": "Table of Contents",
   "title_sidebar": "Contents",
   "toc_cell": false,
   "toc_position": {},
   "toc_section_display": true,
   "toc_window_display": false
  }
 },
 "nbformat": 4,
 "nbformat_minor": 2
}
