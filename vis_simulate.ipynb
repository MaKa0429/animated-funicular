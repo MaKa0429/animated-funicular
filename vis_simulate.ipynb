{
 "cells": [
  {
   "cell_type": "code",
   "execution_count": null,
   "metadata": {},
   "outputs": [],
   "source": [
    "import os\n",
    "import glob\n",
    "import subprocess\n",
    "import numpy as np\n",
    "import pandas as pd\n",
    "from tqdm import tqdm, trange\n",
    "import AMD_Tools3 as amd"
   ]
  },
  {
   "cell_type": "code",
   "execution_count": null,
   "metadata": {},
   "outputs": [],
   "source": [
    "def meshcode2lat(meshcode):\n",
    "    latlon = amd.mesh2lalo(meshcode)\n",
    "    return latlon[0]\n",
    "\n",
    "def meshcode2lon(meshcode):\n",
    "    latlon = amd.mesh2lalo(meshcode)\n",
    "    return latlon[1]"
   ]
  },
  {
   "cell_type": "code",
   "execution_count": null,
   "metadata": {},
   "outputs": [],
   "source": [
    "#load simdata\n",
    "\n",
    "#sh (header)\n",
    "head_lines = []\n",
    "for prefyear in tqdm(glob.glob('simdata/*/*'), desc='header'):\n",
    "    head_line = subprocess.check_output(f'head -n 1 {prefyear}/*.csv', shell=True)\n",
    "    head_line = head_line.decode('utf-8')\n",
    "    head_line = head_line.split('\\n')\n",
    "    head_lines += head_line\n",
    "# print(head_lines[:10])\n",
    "\n",
    "#extract header\n",
    "header = head_lines[1].split(',')\n",
    "for l in range(0, len(head_lines), 3):\n",
    "    assert(header == head_lines[l+1].split(','))  # assert all simdata has the same header\n",
    "\n",
    "#sh (values)\n",
    "last_lines = []\n",
    "for prefyear in tqdm(glob.glob('simdata/*/*'), desc='value'):\n",
    "    last_line = subprocess.check_output(f'tail -n 1 {prefyear}/*.csv', shell=True)\n",
    "    last_line = last_line.decode('utf-8')\n",
    "    last_line = last_line.split('\\n')\n",
    "    last_lines += last_line\n",
    "# print(last_lines[:10])\n",
    "\n",
    "#dvi\n",
    "simdata = []\n",
    "for l in trange(0, len(last_lines), 3, desc='combine'):\n",
    "    filename = last_lines[l]\n",
    "    values = last_lines[l+1]\n",
    "    assert('==>' in filename)\n",
    "    \n",
    "    filename2 = filename.split(' ')[1]\n",
    "    _, pref, year, meshcode = os.path.splitext(filename2)[0].split('/')\n",
    "    values = values.split(',')\n",
    "    # print(pref, year, meshcode)\n",
    "    simdatum = dict(zip(header, values))\n",
    "    simdatum['pref'] = pref\n",
    "    simdatum['meshcode'] = meshcode\n",
    "    simdatum['year'] = int(year)\n",
    "    simdata.append(simdatum)\n",
    "\n",
    "#to dataframe\n",
    "simdata = pd.DataFrame(simdata)\n",
    "for dt in ('DVI', 'GY', 'LAI', 'TMX', 'TAV', 'RAD'):\n",
    "    simdata[dt] = pd.to_numeric(simdata[dt])\n",
    "print('simdata.shape:', simdata.shape)\n",
    "simdata.head()"
   ]
  },
  {
   "cell_type": "markdown",
   "metadata": {},
   "source": [
    "# 1km-mesh sampling interval"
   ]
  },
  {
   "cell_type": "code",
   "execution_count": null,
   "metadata": {},
   "outputs": [],
   "source": [
    "#diff of longtitude\n",
    "for pref in simdata.pref.unique():\n",
    "    print('pref:', pref)\n",
    "    # lats = [meshcode2lat(meshcode) for meshcode in simdata[simdata.pref==pref].meshcode]\n",
    "    lons = [meshcode2lon(meshcode) for meshcode in simdata[simdata.pref==pref].meshcode]\n",
    "    print(np.diff(lons[:5]))"
   ]
  },
  {
   "cell_type": "code",
   "execution_count": null,
   "metadata": {
    "scrolled": false
   },
   "outputs": [],
   "source": [
    "#scatter plot\n",
    "fig, ax = plt.subplots(figsize=(7, 7))\n",
    "year = np.random.randint(1980, 2016)\n",
    "df = simdata[simdata.year == year].copy()\n",
    "df['lat'] = df.meshcode.astype(str).apply(meshcode2lat)\n",
    "df['lon'] = df.meshcode.astype(str).apply(meshcode2lon)\n",
    "df.plot.scatter(x='lon', y='lat', ax=ax)\n",
    "ax.set_title(f'year={year}')\n",
    "fig.tight_layout()"
   ]
  },
  {
   "cell_type": "markdown",
   "metadata": {},
   "source": [
    "# DVI variation\n"
   ]
  },
  {
   "cell_type": "code",
   "execution_count": null,
   "metadata": {},
   "outputs": [],
   "source": [
    "simdata.DVI.round(1).hist(bins=20).set(xlabel='DVI', ylabel='Frequency')"
   ]
  },
  {
   "cell_type": "code",
   "execution_count": null,
   "metadata": {},
   "outputs": [],
   "source": [
    "simdata.groupby(['pref']).DVI.describe()"
   ]
  },
  {
   "cell_type": "code",
   "execution_count": null,
   "metadata": {
    "scrolled": true
   },
   "outputs": [],
   "source": [
    "simdata.groupby(['year']).DVI.describe()"
   ]
  },
  {
   "cell_type": "code",
   "execution_count": null,
   "metadata": {
    "scrolled": true
   },
   "outputs": [],
   "source": [
    "simdata.groupby(['pref', 'year']).DVI.describe()"
   ]
  },
  {
   "cell_type": "markdown",
   "metadata": {},
   "source": [
    "# GY Heatmap"
   ]
  },
  {
   "cell_type": "code",
   "execution_count": null,
   "metadata": {},
   "outputs": [],
   "source": [
    "param = 'GY'"
   ]
  },
  {
   "cell_type": "code",
   "execution_count": null,
   "metadata": {},
   "outputs": [],
   "source": [
    "simdata.groupby(['pref'])[param].describe()"
   ]
  },
  {
   "cell_type": "code",
   "execution_count": null,
   "metadata": {},
   "outputs": [],
   "source": [
    "#groupby\n",
    "simdata_grouped = simdata.groupby(by=['meshcode', 'year'])[param].max()\n",
    "# print('len(DVI<1.9):', (simdata_grouped < 1.9).sum())\n",
    "# print('len(simdata):', len(simdata_grouped))\n",
    "simdata2 = simdata_grouped.reset_index()\n",
    "simdata2['lat'] = simdata2.meshcode.astype(str).apply(meshcode2lat)\n",
    "simdata2['lon'] = simdata2.meshcode.astype(str).apply(meshcode2lon)\n",
    "simdata2.head()"
   ]
  },
  {
   "cell_type": "code",
   "execution_count": null,
   "metadata": {
    "scrolled": false
   },
   "outputs": [],
   "source": [
    "#scatter plot\n",
    "from matplotlib import cm\n",
    "import seaborn as sns\n",
    "fig, axes = plt.subplots(9, 4, figsize=(10, 15))\n",
    "for year, ax in tqdm(zip(simdata2.year.unique(), axes.flatten())):\n",
    "    df = simdata2[simdata2.year == year].copy()\n",
    "    piv = pd.pivot_table(df, values='GY', index='lat', columns='lon')\n",
    "    sns.heatmap(piv, ax=ax, cmap=cm.hot,\n",
    "                vmin=0, vmax=simdata[param].max(),\n",
    "                # vmin=0, vmax=800,\n",
    "                xticklabels=[], yticklabels=[])\n",
    "    ax.set_title(f'year={year}', fontsize=9)\n",
    "    ax.set_xlabel('')\n",
    "    ax.set_ylabel('')\n",
    "    # ax.get_xaxis().set_visible(False)\n",
    "    # ax.get_yaxis().set_visible(False)\n",
    "    ax.invert_yaxis()\n",
    "    # break\n",
    "fig.tight_layout()\n",
    "fig.savefig('output/vis_GYmap.png')"
   ]
  },
  {
   "cell_type": "code",
   "execution_count": null,
   "metadata": {
    "scrolled": false
   },
   "outputs": [],
   "source": [
    "#on google map\n",
    "import folium\n",
    "import matplotlib.cm as cm\n",
    "from matplotlib.colors import Normalize\n",
    "\n",
    "def value_to_hex(value, vmin, vmax):\n",
    "    cmap = cm.hot\n",
    "    norm = Normalize(vmin=vmin, vmax=vmax)\n",
    "    rgb = cmap(norm(value))[:3]\n",
    "    r, g, b = (np.array(rgb) * 255).astype(int)\n",
    "    hex = \"#{0:02x}{1:02x}{2:02x}\".format(r, g, b)\n",
    "    return hex\n",
    "\n",
    "year = np.random.randint(1980, 2015)\n",
    "print('year:', year)\n",
    "\n",
    "map = folium.Map(location=[35.1708333, 138.18125], zoom_start=6)\n",
    "df = simdata2[simdata2.year==year].copy()\n",
    "\n",
    "for i, row in tqdm(df.iterrows()):\n",
    "    \n",
    "    if i % 10 == 0:\n",
    "        color = value_to_hex(row[param], vmin=0, vmax=900)\n",
    "        folium.CircleMarker([row['lat'], row['lon']], radius=1,\n",
    "                    popup=str(row[param]), color=color).add_to(map)\n",
    "map"
   ]
  },
  {
   "cell_type": "markdown",
   "metadata": {},
   "source": [
    "# Whey DVI finished in 1.9 in some cases?"
   ]
  },
  {
   "cell_type": "code",
   "execution_count": null,
   "metadata": {
    "scrolled": false
   },
   "outputs": [],
   "source": [
    "print('Just because environmental data is given until 10/31')\n",
    "simdata[(simdata.DVI > 1.9) & (simdata.DVI < 2.0)][['DVI', 'date']]"
   ]
  },
  {
   "cell_type": "markdown",
   "metadata": {},
   "source": [
    "# Input data"
   ]
  },
  {
   "cell_type": "code",
   "execution_count": null,
   "metadata": {},
   "outputs": [],
   "source": [
    "#load all simdata (take time...)\n",
    "simdata_all = [pd.read_csv(csvpath) for csvpath in glob.glob('simdata/*/*/*.csv')]\n",
    "simdata_all = pd.concat(simdata_all, axis=0)\n",
    "\n",
    "print('simdata_all.shape:', simdata_all.shape)\n",
    "simdata_all.head()"
   ]
  },
  {
   "cell_type": "code",
   "execution_count": null,
   "metadata": {},
   "outputs": [],
   "source": [
    "#Histogram of inputs\n",
    "\n",
    "dt = ['DVI', 'DVR', 'TAV', 'TMX', 'RAD', 'DL', 'PPM']\n",
    "fig, axes = plt.subplots(2, 4, figsize=(12, 5))\n",
    "cnt = 0\n",
    "\n",
    "for _dt in tqdm(dt):\n",
    "    ax = axes.flatten()[cnt]\n",
    "    df = simdata_all[_dt]\n",
    "    df.plot.hist(ax=ax)\n",
    "    ax.set_xlabel(_dt)\n",
    "    ax.set_ylabel('Frequency')\n",
    "    cnt += 1\n",
    "    \n",
    "fig.tight_layout()"
   ]
  },
  {
   "cell_type": "code",
   "execution_count": null,
   "metadata": {},
   "outputs": [],
   "source": [
    "#Scatter matrix of inputs\n",
    "\n",
    "import seaborn as sns\n",
    "sns.set(style=\"ticks\")\n",
    "\n",
    "dt = ['DVI', 'DVR', 'TAV', 'TMX', 'RAD', 'DL', 'PPM']\n",
    "df = simdata_all[dt]\n",
    "df = df.sample(frac=.005, axis=0)  # random sampling to make it fast\n",
    "print('df.shape:', df.shape)\n",
    "sns.pairplot(df, size=1.)"
   ]
  }
 ],
 "metadata": {
  "kernelspec": {
   "display_name": "Python 3",
   "language": "python",
   "name": "python3"
  },
  "language_info": {
   "codemirror_mode": {
    "name": "ipython",
    "version": 3
   },
   "file_extension": ".py",
   "mimetype": "text/x-python",
   "name": "python",
   "nbconvert_exporter": "python",
   "pygments_lexer": "ipython3",
   "version": "3.6.3"
  },
  "toc": {
   "nav_menu": {},
   "number_sections": true,
   "sideBar": true,
   "skip_h1_title": false,
   "title_cell": "Table of Contents",
   "title_sidebar": "Contents",
   "toc_cell": false,
   "toc_position": {},
   "toc_section_display": "block",
   "toc_window_display": false
  }
 },
 "nbformat": 4,
 "nbformat_minor": 2
}
