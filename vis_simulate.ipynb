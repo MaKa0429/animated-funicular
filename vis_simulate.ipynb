{
 "cells": [
  {
   "cell_type": "code",
   "execution_count": null,
   "metadata": {},
   "outputs": [],
   "source": [
    "import os\n",
    "import glob\n",
    "import subprocess\n",
    "import numpy as np\n",
    "import pandas as pd\n",
    "from tqdm import tqdm"
   ]
  },
  {
   "cell_type": "markdown",
   "metadata": {},
   "source": [
    "# DVI variation\n"
   ]
  },
  {
   "cell_type": "code",
   "execution_count": null,
   "metadata": {},
   "outputs": [],
   "source": [
    "#load simdata\n",
    "\n",
    "#sh\n",
    "last_lines = subprocess.check_output('tail -n 1 simdata/*/*/*.csv', shell=True)\n",
    "last_lines = last_lines.decode('utf-8')\n",
    "last_lines = last_lines.split('\\n')\n",
    "# print(last_lines)\n",
    "\n",
    "#dvi\n",
    "dvis = []\n",
    "for l in range(0, len(last_lines), 3):\n",
    "    filename = last_lines[l]\n",
    "    values = last_lines[l+1]\n",
    "    assert('==>' in filename)\n",
    "    \n",
    "    filename2 = filename.split(' ')[1]\n",
    "    _, pref, year, meshcode = os.path.splitext(filename2)[0].split('/')\n",
    "    dvi = values.split(',')[1]\n",
    "    # print(pref, year, meshcode)\n",
    "    dvis.append({'pref': pref, 'year': int(year),\n",
    "                 'meshcode': meshcode, 'dvi': float(dvi)})"
   ]
  },
  {
   "cell_type": "code",
   "execution_count": null,
   "metadata": {},
   "outputs": [],
   "source": [
    "#histogram\n",
    "dvis = pd.DataFrame(dvis)\n",
    "dvis.dvi.hist().set(xlabel='DVI', ylabel='Frequency', title='all')"
   ]
  },
  {
   "cell_type": "code",
   "execution_count": null,
   "metadata": {},
   "outputs": [],
   "source": [
    "dvis.groupby(['pref']).dvi.describe()"
   ]
  },
  {
   "cell_type": "code",
   "execution_count": null,
   "metadata": {
    "scrolled": true
   },
   "outputs": [],
   "source": [
    "dvis.groupby(['year']).dvi.describe()"
   ]
  },
  {
   "cell_type": "code",
   "execution_count": null,
   "metadata": {
    "scrolled": true
   },
   "outputs": [],
   "source": [
    "dvis.groupby(['pref', 'year']).dvi.describe()"
   ]
  }
 ],
 "metadata": {
  "kernelspec": {
   "display_name": "Python 3",
   "language": "python",
   "name": "python3"
  },
  "language_info": {
   "codemirror_mode": {
    "name": "ipython",
    "version": 3
   },
   "file_extension": ".py",
   "mimetype": "text/x-python",
   "name": "python",
   "nbconvert_exporter": "python",
   "pygments_lexer": "ipython3",
   "version": "3.6.3"
  },
  "toc": {
   "nav_menu": {},
   "number_sections": true,
   "sideBar": true,
   "skip_h1_title": false,
   "toc_cell": false,
   "toc_position": {},
   "toc_section_display": "block",
   "toc_window_display": false
  }
 },
 "nbformat": 4,
 "nbformat_minor": 2
}
