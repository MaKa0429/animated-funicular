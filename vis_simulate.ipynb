{
 "cells": [
  {
   "cell_type": "code",
   "execution_count": null,
   "metadata": {},
   "outputs": [],
   "source": [
    "import os\n",
    "import glob\n",
    "import numpy as np\n",
    "import pandas as pd\n",
    "from tqdm import tqdm"
   ]
  },
  {
   "cell_type": "code",
   "execution_count": null,
   "metadata": {},
   "outputs": [],
   "source": [
    "#\n",
    "# mean DVI\n",
    "#\n",
    "import subprocess\n",
    "\n",
    "dvis = []\n",
    "\n",
    "for csv in tqdm(glob.glob('simdata/*/*/*.csv')):\n",
    "    _, pref, year, meshcode = os.path.splitext(csv)[0].split('/')\n",
    "    line = subprocess.check_output(['tail', '-1', csv])\n",
    "    dvi = line.decode('utf-8').split(',')[1]\n",
    "    dvis.append({'pref': pref, 'year': int(year),\n",
    "                 'meshcode': meshcode, 'dvi': float(dvi)})\n",
    "    \n",
    "dvis = pd.DataFrame(dvis)\n",
    "dvis.dvi.hist()"
   ]
  },
  {
   "cell_type": "code",
   "execution_count": null,
   "metadata": {},
   "outputs": [],
   "source": [
    "\n",
    "df = []\n",
    "for csv in tqdm(glob.glob('simdata/*/*/*.csv')):\n",
    "    \n",
    "    _, pref, year, meshcode = os.path.splitext(csv)[0].split('/')\n",
    "    if int(year) > 1980:\n",
    "        continue\n",
    "    \n",
    "    _df = pd.read_csv(csv)[['date', 'year', 'meshcode', 'DVI']]\n",
    "    _df['pref'] = pref\n",
    "    df.append(_df)\n",
    "    \n",
    "df = pd.concat(df, axis=0)\n",
    "df.head()\n",
    "\n",
    "df.groupby(['pref', 'year', 'meshcode']).max()"
   ]
  }
 ],
 "metadata": {
  "kernelspec": {
   "display_name": "Python 3",
   "language": "python",
   "name": "python3"
  },
  "language_info": {
   "codemirror_mode": {
    "name": "ipython",
    "version": 3
   },
   "file_extension": ".py",
   "mimetype": "text/x-python",
   "name": "python",
   "nbconvert_exporter": "python",
   "pygments_lexer": "ipython3",
   "version": "3.6.3"
  },
  "toc": {
   "nav_menu": {},
   "number_sections": true,
   "sideBar": true,
   "skip_h1_title": false,
   "toc_cell": false,
   "toc_position": {},
   "toc_section_display": "block",
   "toc_window_display": false
  }
 },
 "nbformat": 4,
 "nbformat_minor": 2
}
