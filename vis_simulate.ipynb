{
 "cells": [
  {
   "cell_type": "code",
   "execution_count": null,
   "metadata": {},
   "outputs": [],
   "source": [
    "import os\n",
    "import glob\n",
    "import subprocess\n",
    "import numpy as np\n",
    "import pandas as pd\n",
    "from tqdm import tqdm"
   ]
  },
  {
   "cell_type": "code",
   "execution_count": null,
   "metadata": {},
   "outputs": [],
   "source": [
    "#load simdata\n",
    "\n",
    "#sh (header)\n",
    "head_lines = subprocess.check_output('head -n 1 simdata/*/*/*.csv', shell=True)\n",
    "head_lines = head_lines.decode('utf-8')\n",
    "head_lines = head_lines.split('\\n')\n",
    "# print(head_lines)\n",
    "\n",
    "#extract header\n",
    "header = head_lines[1].split(',')\n",
    "for l in range(0, len(head_lines), 3):\n",
    "    assert(header == head_lines[l+1].split(','))  # assert all simdata has the same header\n",
    "\n",
    "#sh (values)\n",
    "last_lines = subprocess.check_output('tail -n 1 simdata/*/*/*.csv', shell=True)\n",
    "last_lines = last_lines.decode('utf-8')\n",
    "last_lines = last_lines.split('\\n')\n",
    "# print(last_lines)\n",
    "\n",
    "#dvi\n",
    "simdata = []\n",
    "for l in range(0, len(last_lines), 3):\n",
    "    filename = last_lines[l]\n",
    "    values = last_lines[l+1]\n",
    "    assert('==>' in filename)\n",
    "    \n",
    "    filename2 = filename.split(' ')[1]\n",
    "    _, pref, year, meshcode = os.path.splitext(filename2)[0].split('/')\n",
    "    values = values.split(',')\n",
    "    # print(pref, year, meshcode)\n",
    "    simdatum = dict(zip(header, values))\n",
    "    simdatum['pref'] = pref\n",
    "    simdatum['meshcode'] = meshcode\n",
    "    simdatum['year'] = int(year)\n",
    "    simdata.append(simdatum)\n",
    "\n",
    "#to dataframe\n",
    "simdata = pd.DataFrame(simdata)\n",
    "for dt in ('DVI', 'GY', 'LAI', 'TMX', 'TAV', 'RAD'):\n",
    "    simdata[dt] = pd.to_numeric(simdata[dt])\n",
    "simdata.head()"
   ]
  },
  {
   "cell_type": "code",
   "execution_count": null,
   "metadata": {},
   "outputs": [],
   "source": [
    "simdata.DL"
   ]
  },
  {
   "cell_type": "markdown",
   "metadata": {},
   "source": [
    "# DVI variation\n"
   ]
  },
  {
   "cell_type": "code",
   "execution_count": null,
   "metadata": {},
   "outputs": [],
   "source": [
    "simdata.DVI.hist().set(xlabel='DVI', ylabel='Frequency')"
   ]
  },
  {
   "cell_type": "code",
   "execution_count": null,
   "metadata": {},
   "outputs": [],
   "source": [
    "simdata.groupby(['pref']).DVI.describe()"
   ]
  },
  {
   "cell_type": "code",
   "execution_count": null,
   "metadata": {
    "scrolled": true
   },
   "outputs": [],
   "source": [
    "simdata.groupby(['year']).DVI.describe()"
   ]
  },
  {
   "cell_type": "code",
   "execution_count": null,
   "metadata": {
    "scrolled": true
   },
   "outputs": [],
   "source": [
    "simdata.groupby(['pref', 'year']).DVI.describe()"
   ]
  },
  {
   "cell_type": "markdown",
   "metadata": {},
   "source": [
    "# GY Heatmap"
   ]
  },
  {
   "cell_type": "code",
   "execution_count": null,
   "metadata": {},
   "outputs": [],
   "source": [
    "import AMD_Tools3 as amd\n",
    "\n",
    "param = 'GY'\n",
    "\n",
    "def meshcode2lat(meshcode):\n",
    "    latlon = amd.mesh2lalo(meshcode)\n",
    "    return latlon[0]\n",
    "\n",
    "def meshcode2lon(meshcode):\n",
    "    latlon = amd.mesh2lalo(meshcode)\n",
    "    return latlon[1]\n",
    "\n",
    "#groupby\n",
    "simdata_grouped = simdata.groupby(by=['meshcode', 'year'])[param].max()\n",
    "# print('len(DVI<1.9):', (simdata_grouped < 1.9).sum())\n",
    "# print('len(simdata):', len(simdata_grouped))\n",
    "simdata2 = simdata_grouped.reset_index()\n",
    "simdata2['lat'] = simdata2.meshcode.astype(str).apply(meshcode2lat)\n",
    "simdata2['lon'] = simdata2.meshcode.astype(str).apply(meshcode2lon)\n",
    "simdata2.head()"
   ]
  },
  {
   "cell_type": "code",
   "execution_count": null,
   "metadata": {
    "scrolled": true
   },
   "outputs": [],
   "source": [
    "#scatter plot\n",
    "fig, axes = plt.subplots(9, 4, figsize=(12, 15))\n",
    "for year, ax in zip(simdata2.year.unique(), axes.flatten()):\n",
    "    df = simdata2[simdata2.year == year].copy()\n",
    "    df.plot.scatter(x='lon', y='lat', c=param, ax=ax)\n",
    "    ax.set_title(f'year={year}', fontsize=9)\n",
    "fig.tight_layout()"
   ]
  },
  {
   "cell_type": "code",
   "execution_count": null,
   "metadata": {
    "scrolled": true
   },
   "outputs": [],
   "source": [
    "#on google map\n",
    "import folium\n",
    "for year, ax in zip(simdata2.year.unique(), axes.flatten()):\n",
    "    \n",
    "    #scatter map plot\n",
    "    map = folium.Map(location=[35.1708333, 138.18125], zoom_start=6)\n",
    "    for i, row in df.iterrows():\n",
    "        folium.CircleMarker([row['lat'], row['lon']], radius=1,\n",
    "                    popup=str(row[param]), fill_color=row[param], fill_opacity=0.5).add_to(map)\n",
    "    # map.save(f'output/heatmap_{year}.html')\n",
    "    break\n",
    "map"
   ]
  },
  {
   "cell_type": "markdown",
   "metadata": {},
   "source": [
    "# Input data"
   ]
  },
  {
   "cell_type": "code",
   "execution_count": null,
   "metadata": {},
   "outputs": [],
   "source": [
    "#load all simdata (take time...)\n",
    "simdata_all = [pd.read_csv(csvpath) for csvpath in glob.glob('simdata/*/*/*.csv')]\n",
    "simdata_all = pd.concat(simdata_all, axis=0)\n",
    "\n",
    "print('simdata_all.shape:', simdata_all.shape)\n",
    "simdata_all.head()"
   ]
  },
  {
   "cell_type": "code",
   "execution_count": null,
   "metadata": {},
   "outputs": [],
   "source": [
    "#Histogram of inputs\n",
    "\n",
    "dt = ['DVI', 'DVR', 'TAV', 'TMX', 'RAD', 'DL', 'PPM']\n",
    "fig, axes = plt.subplots(2, 4, figsize=(12, 5))\n",
    "cnt = 0\n",
    "\n",
    "for _dt in tqdm(dt):\n",
    "    ax = axes.flatten()[cnt]\n",
    "    df = simdata_all[_dt]\n",
    "    df.plot.hist(ax=ax)\n",
    "    ax.set_xlabel(_dt)\n",
    "    ax.set_ylabel('Frequency')\n",
    "    cnt += 1\n",
    "    \n",
    "fig.tight_layout()"
   ]
  },
  {
   "cell_type": "code",
   "execution_count": null,
   "metadata": {},
   "outputs": [],
   "source": [
    "#Scatter matrix of inputs\n",
    "\n",
    "import seaborn as sns\n",
    "sns.set(style=\"ticks\")\n",
    "\n",
    "dt = ['DVI', 'DVR', 'TAV', 'TMX', 'RAD', 'DL', 'PPM']\n",
    "df = simdata_all[dt]\n",
    "df = df.sample(frac=.005, axis=0)  # random sampling to make it fast\n",
    "print('df.shape:', df.shape)\n",
    "sns.pairplot(df, size=1.)"
   ]
  }
 ],
 "metadata": {
  "kernelspec": {
   "display_name": "Python 3",
   "language": "python",
   "name": "python3"
  },
  "language_info": {
   "codemirror_mode": {
    "name": "ipython",
    "version": 3
   },
   "file_extension": ".py",
   "mimetype": "text/x-python",
   "name": "python",
   "nbconvert_exporter": "python",
   "pygments_lexer": "ipython3",
   "version": "3.6.3"
  },
  "toc": {
   "nav_menu": {},
   "number_sections": true,
   "sideBar": true,
   "skip_h1_title": false,
   "toc_cell": false,
   "toc_position": {},
   "toc_section_display": "block",
   "toc_window_display": false
  }
 },
 "nbformat": 4,
 "nbformat_minor": 2
}
