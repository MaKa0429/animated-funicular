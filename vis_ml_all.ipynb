{
 "cells": [
  {
   "cell_type": "code",
   "execution_count": null,
   "metadata": {
    "ExecuteTime": {
     "end_time": "2018-01-14T01:54:12.244116Z",
     "start_time": "2018-01-14T01:54:12.224091Z"
    }
   },
   "outputs": [],
   "source": [
    "from __future__ import print_function\n",
    "import os\n",
    "import numpy as np\n",
    "from tqdm import tqdm, tqdm_notebook\n",
    "# import pandas as pd\n",
    "import matplotlib.pyplot as plt"
   ]
  },
  {
   "cell_type": "markdown",
   "metadata": {},
   "source": [
    "# Load a result"
   ]
  },
  {
   "cell_type": "code",
   "execution_count": null,
   "metadata": {
    "ExecuteTime": {
     "end_time": "2018-01-14T01:54:12.244116Z",
     "start_time": "2018-01-14T01:54:12.224091Z"
    }
   },
   "outputs": [],
   "source": [
    "#easydict\n",
    "import easydict\n",
    "args = easydict.EasyDict({\n",
    "            'path': './output/0415-200054//',\n",
    "})\n",
    "\n",
    "#init\n",
    "outdir = args.path\n",
    "\n",
    "#accuracies\n",
    "with open(os.path.join(args.path, 'log')) as f:\n",
    "    lines = f.readlines()\n",
    "    for line in lines:\n",
    "        if line.find('Test') >= 0:\n",
    "            print(line[:-1])\n",
    "\n",
    "#ml.png\n",
    "from PIL import Image\n",
    "image = Image.open(os.path.join(args.path, 'ml.png'))\n",
    "image.resize((500, 500))"
   ]
  },
  {
   "cell_type": "code",
   "execution_count": null,
   "metadata": {
    "ExecuteTime": {
     "end_time": "2018-01-14T01:54:12.244116Z",
     "start_time": "2018-01-14T01:54:12.224091Z"
    }
   },
   "outputs": [],
   "source": [
    "#sort by MAE and MSE\n",
    "from IPython.display import display_html\n",
    "def display_side_by_side(*args):\n",
    "    html_str=''\n",
    "    for df in args:\n",
    "        html_str+=df.to_html()\n",
    "    display_html(html_str.replace('table','table style=\"display:inline\"'),raw=True)\n",
    "    \n",
    "history = pd.read_csv(os.path.join(outdir, 'history.csv'), index_col=0)\n",
    "history.index.name = 'epoch'\n",
    "\n",
    "display_side_by_side(\n",
    "    history.sort_values('val_loss').head(),\n",
    "    history.sort_values('val_mean_absolute_error').head(),\n",
    ")"
   ]
  },
  {
   "cell_type": "code",
   "execution_count": null,
   "metadata": {
    "ExecuteTime": {
     "end_time": "2018-01-14T01:54:19.103188Z",
     "start_time": "2018-01-14T01:54:14.426545Z"
    }
   },
   "outputs": [],
   "source": [
    "#load model\n",
    "# from vis.utils import utils\n",
    "from keras import activations\n",
    "from keras.models import load_model\n",
    "# from vis.visualization import visualize_activation\n",
    "# from vis.input_modifiers import Jitter\n",
    "\n",
    "# best_epoch = history.sort_values('val_loss').index[0]\n",
    "model_path = f'{args.path}/best.h5'\n",
    "print('Loading', model_path)\n",
    "model = load_model(model_path)\n",
    "model.summary()"
   ]
  },
  {
   "cell_type": "code",
   "execution_count": null,
   "metadata": {},
   "outputs": [],
   "source": [
    "import sys\n",
    "sys.path.append('convnet-drawer')\n",
    "from keras_util import convert_drawer_model\n",
    "from matplotlib_util import save_model_to_file\n",
    "\n",
    "cmodel = convert_drawer_model(model)\n",
    "cmodel.save_fig(os.path.join(args.path, 'model.svg'))\n",
    "# save_model_to_file(cmodel, os.path.join(args.path, 'model.eps'))\n",
    "print('saved')"
   ]
  },
  {
   "cell_type": "code",
   "execution_count": null,
   "metadata": {},
   "outputs": [],
   "source": [
    "#plot prediction results\n",
    "from utils import xyline\n",
    "from sklearn.metrics import mean_squared_error\n",
    "\n",
    "fig, axes = plt.subplots(1, 2, figsize=(10, 4.5))\n",
    "\n",
    "for i, mode in enumerate(('train', 'valid')):\n",
    "    result = pd.read_csv(\n",
    "        os.path.join(args.path, f'result_{mode}.csv'),\n",
    "        index_col=0)\n",
    "    \n",
    "    ax = axes[i]\n",
    "    result.plot.scatter(x='actual', y='predict', ax=ax, alpha=.05, s=1)\n",
    "    \n",
    "    xyline(ax)\n",
    "    ax.set_xlim(300, 1200)\n",
    "    ax.set_ylim(300, 1200)\n",
    "    if mode == 'train':\n",
    "        ax.set_title('training')\n",
    "    else:\n",
    "        ax.set_title('validation')\n",
    "        \n",
    "    mse = mean_squared_error(result.actual, result.predict)\n",
    "    print(f'({mode}) MSE: {mse:.1f}')\n",
    "    \n",
    "fig.tight_layout()\n",
    "fig.savefig(os.path.join(args.path, 'result.eps'), dpi=300)"
   ]
  },
  {
   "cell_type": "markdown",
   "metadata": {},
   "source": [
    "# Are testing data within a range of training data?"
   ]
  },
  {
   "cell_type": "code",
   "execution_count": null,
   "metadata": {},
   "outputs": [],
   "source": [
    "import AMD_Tools3 as amd\n",
    "\n",
    "def meshcode2lat(meshcode):\n",
    "    latlon = amd.mesh2lalo(meshcode)\n",
    "    return latlon[0]\n",
    "\n",
    "def meshcode2lon(meshcode):\n",
    "    latlon = amd.mesh2lalo(meshcode)\n",
    "    return latlon[1]"
   ]
  },
  {
   "cell_type": "code",
   "execution_count": null,
   "metadata": {},
   "outputs": [],
   "source": [
    "path = 'output/0415-200054/'\n",
    "r_train = np.load(os.path.join(path, 'r_train.npy'))\n",
    "r_valid = np.load(os.path.join(path, 'r_valid.npy'))\n",
    "years =  np.unique(np.append(r_train[:, 0, 4, 0], r_valid[:, 0, 4, 0]))\n",
    "years.sort()"
   ]
  },
  {
   "cell_type": "code",
   "execution_count": null,
   "metadata": {},
   "outputs": [],
   "source": [
    "from matplotlib import cm\n",
    "import seaborn as sns\n",
    "\n",
    "fig, axes = plt.subplots(5, 8, figsize=(12, 7))\n",
    "for year, ax in tqdm_notebook(zip(years, axes.flatten())):\n",
    "\n",
    "    piv = pd.DataFrame([{'kind': 4, 'lat': lat, 'lon': lon}\n",
    "                       for lat in np.arange(31.1, 45.4, .1)\n",
    "                       for lon in np.arange(128.6, 144.9, .1)])\n",
    "    \n",
    "    for r, v in ([r_train, 0], [r_valid, 2]):\n",
    "        df = r[r[:, 0, 4, 0] == year]\n",
    "        print('df.shape[0]:', df.shape[0])\n",
    "        for row in df:\n",
    "            year = row[0, 4, 0]\n",
    "            meshcode = row[0, 5, 0]\n",
    "            lat = round(meshcode2lat(str(int(meshcode))), 1)\n",
    "            lon = round(meshcode2lon(str(int(meshcode))), 1)\n",
    "            piv.loc[(lat-.01<piv.lat) & (piv.lat<lat+.01) & (lon-.01<piv.lon) & (piv.lon<lon+.01), 'kind'] = v\n",
    "        \n",
    "    piv2 = pd.pivot_table(piv, values='kind', index='lat', columns='lon')\n",
    "    sns.heatmap(piv2, ax=ax, cmap=cm.hot,\n",
    "                vmin=0, vmax=4,\n",
    "                xticklabels=[], yticklabels=[],\n",
    "                cbar=False,\n",
    "               )\n",
    "    ax.set_title(f'year={int(year)}', fontsize=9)\n",
    "    ax.set_xlabel('')\n",
    "    ax.set_ylabel('')\n",
    "    ax.invert_yaxis()\n",
    "    # break\n",
    "\n",
    "#hide\n",
    "for i in range(len(years), 40):\n",
    "    ax = axes.flatten()[i]\n",
    "    ax.get_xaxis().set_visible(False)\n",
    "    ax.get_yaxis().set_visible(False)\n",
    "\n",
    "fig.tight_layout()\n",
    "fig.savefig(os.path.join(path, 'data_overwrap.tiff'), dpi=300)"
   ]
  }
 ],
 "metadata": {
  "kernelspec": {
   "display_name": "Python 3",
   "language": "python",
   "name": "python3"
  },
  "language_info": {
   "codemirror_mode": {
    "name": "ipython",
    "version": 3
   },
   "file_extension": ".py",
   "mimetype": "text/x-python",
   "name": "python",
   "nbconvert_exporter": "python",
   "pygments_lexer": "ipython3",
   "version": "3.6.8"
  },
  "toc": {
   "nav_menu": {},
   "number_sections": true,
   "sideBar": true,
   "skip_h1_title": false,
   "title_cell": "Table of Contents",
   "title_sidebar": "Contents",
   "toc_cell": false,
   "toc_position": {},
   "toc_section_display": "block",
   "toc_window_display": false
  }
 },
 "nbformat": 4,
 "nbformat_minor": 2
}
