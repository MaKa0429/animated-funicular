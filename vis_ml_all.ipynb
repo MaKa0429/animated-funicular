{
 "cells": [
  {
   "cell_type": "code",
   "execution_count": null,
   "metadata": {
    "ExecuteTime": {
     "end_time": "2018-01-14T01:54:12.244116Z",
     "start_time": "2018-01-14T01:54:12.224091Z"
    }
   },
   "outputs": [],
   "source": [
    "from __future__ import print_function\n",
    "import os\n",
    "import numpy as np\n",
    "from tqdm import tqdm\n",
    "# import pandas as pd\n",
    "import matplotlib.pyplot as plt"
   ]
  },
  {
   "cell_type": "markdown",
   "metadata": {},
   "source": [
    "# Sumarize results"
   ]
  },
  {
   "cell_type": "code",
   "execution_count": null,
   "metadata": {},
   "outputs": [],
   "source": [
    "import re\n",
    "import glob\n",
    "\n",
    "results = {}\n",
    "\n",
    "for dir in glob.glob('output/*'):\n",
    "\n",
    "    # skipped folders\n",
    "    if os.path.splitext(dir)[-1] == '.py':\n",
    "        continue\n",
    "    elif os.path.basename(dir) == 'old':\n",
    "        continue\n",
    "\n",
    "    # log exists?\n",
    "    logpath = os.path.join(dir, 'log')\n",
    "    if not os.path.exists(logpath):\n",
    "        continue\n",
    "        \n",
    "    #init result\n",
    "    key = os.path.basename(dir)\n",
    "    results[key] = {}\n",
    "\n",
    "    # load log\n",
    "    with open(logpath, 'r') as f:\n",
    "        log = f.readlines()\n",
    "    for line in log:\n",
    "        if 'Namespace' in line:\n",
    "            # print(line)\n",
    "            results[key]['batchsize'] = int(re.search('batchsize=([0-9]{,3}),', line).group(1))\n",
    "            results[key]['debug'] = str(re.search('debug=(.{,5}),', line).group(1))\n",
    "            results[key]['epochs'] = int(re.search('epochs=([0-9]{,4}),', line).group(1))\n",
    "            results[key]['DVIth'] = float(re.search('DVIth=([0-2]\\.[0-9]{,3})', line).group(1))\n",
    "            results[key]['GYth'] = int(re.search('GYth=([0-9]{,3})', line).group(1))\n",
    "            try:\n",
    "                results[key]['optimizer'] = str(re.search(\"optimizer='(.{,10})',\", line).group(1))\n",
    "                results[key]['input'] = str(re.search(\"input=\\[(.+)\\],\", line).group(1))\n",
    "                results[key]['model'] = str(re.search(\"model='(.{,3})',\", line).group(1))\n",
    "            except:\n",
    "                pass\n",
    "        elif 'acc' in line:\n",
    "            match = re.search('\\>\\s.+\\:\\s(.*)', line)\n",
    "            mae = float(match.group(1))\n",
    "            results[key]['MAE'] = round(mae, 4)\n",
    "            \n",
    "results = pd.DataFrame(results).T\n",
    "results.index = pd.to_datetime(results.index, format='%m%d-%H%M%S')\n",
    "results"
   ]
  },
  {
   "cell_type": "markdown",
   "metadata": {},
   "source": [
    "# Load a result"
   ]
  },
  {
   "cell_type": "code",
   "execution_count": null,
   "metadata": {
    "ExecuteTime": {
     "end_time": "2018-01-14T01:54:12.244116Z",
     "start_time": "2018-01-14T01:54:12.224091Z"
    }
   },
   "outputs": [],
   "source": [
    "#easydict\n",
    "import easydict\n",
    "args = easydict.EasyDict({\n",
    "            'path': './output/0211-174552/',\n",
    "})\n",
    "\n",
    "#init\n",
    "outdir = args.path\n",
    "\n",
    "#accuracies\n",
    "with open(os.path.join(args.path, 'log')) as f:\n",
    "    lines = f.readlines()\n",
    "    for line in lines:\n",
    "        if line.find('Test') >= 0:\n",
    "            print(line[:-1])\n",
    "\n",
    "#ml.png\n",
    "from PIL import Image\n",
    "image = Image.open(os.path.join(args.path, 'ml.png'))\n",
    "image.resize((500, 500))"
   ]
  },
  {
   "cell_type": "code",
   "execution_count": null,
   "metadata": {
    "ExecuteTime": {
     "end_time": "2018-01-14T01:54:12.244116Z",
     "start_time": "2018-01-14T01:54:12.224091Z"
    }
   },
   "outputs": [],
   "source": [
    "#sort by MAE and MSE\n",
    "from IPython.display import display_html\n",
    "def display_side_by_side(*args):\n",
    "    html_str=''\n",
    "    for df in args:\n",
    "        html_str+=df.to_html()\n",
    "    display_html(html_str.replace('table','table style=\"display:inline\"'),raw=True)\n",
    "    \n",
    "history = pd.read_csv(os.path.join(outdir, 'history.csv'), index_col=0)\n",
    "history.index.name = 'epoch'\n",
    "\n",
    "display_side_by_side(\n",
    "    history.sort_values('val_loss').head(),\n",
    "    history.sort_values('val_mean_absolute_error').head(),\n",
    ")"
   ]
  },
  {
   "cell_type": "code",
   "execution_count": null,
   "metadata": {
    "ExecuteTime": {
     "end_time": "2018-01-14T01:54:19.103188Z",
     "start_time": "2018-01-14T01:54:14.426545Z"
    }
   },
   "outputs": [],
   "source": [
    "#load model\n",
    "# from vis.utils import utils\n",
    "from keras import activations\n",
    "from keras.models import load_model\n",
    "# from vis.visualization import visualize_activation\n",
    "# from vis.input_modifiers import Jitter\n",
    "\n",
    "# best_epoch = history.sort_values('val_loss').index[0]\n",
    "model_path = f'{args.path}/best.h5'\n",
    "print('Loading', model_path)\n",
    "model = load_model(model_path)\n",
    "model.summary()"
   ]
  },
  {
   "cell_type": "code",
   "execution_count": null,
   "metadata": {},
   "outputs": [],
   "source": [
    "import sys\n",
    "sys.path.append('convnet-drawer')\n",
    "from keras_util import convert_drawer_model\n",
    "from matplotlib_util import save_model_to_file\n",
    "\n",
    "cmodel = convert_drawer_model(model)\n",
    "cmodel.save_fig(os.path.join(args.path, 'model.svg'))\n",
    "# save_model_to_file(cmodel, os.path.join(args.path, 'model.eps'))\n",
    "print('saved')"
   ]
  },
  {
   "cell_type": "code",
   "execution_count": null,
   "metadata": {},
   "outputs": [],
   "source": [
    "#plot prediction results\n",
    "from utils import xyline\n",
    "from sklearn.metrics import mean_squared_error\n",
    "\n",
    "fig, axes = plt.subplots(1, 2, figsize=(10, 4.5))\n",
    "\n",
    "for i, mode in enumerate(('train', 'valid')):\n",
    "    result = pd.read_csv(\n",
    "        os.path.join(args.path, f'result_{mode}.csv'),\n",
    "        index_col=0)\n",
    "    \n",
    "    ax = axes[i]\n",
    "    result.plot.scatter(x='actual', y='predict', ax=ax, alpha=.05, s=1)\n",
    "    \n",
    "    xyline(ax)\n",
    "    ax.set_xlim(300, 1200)\n",
    "    ax.set_ylim(300, 1200)\n",
    "    if mode == 'train':\n",
    "        ax.set_title('training')\n",
    "    else:\n",
    "        ax.set_title('validation')\n",
    "        \n",
    "    mse = mean_squared_error(result.actual, result.predict)\n",
    "    print(f'({mode}) MSE: {mse:.1f}')\n",
    "    \n",
    "fig.tight_layout()\n",
    "fig.savefig(os.path.join(args.path, 'result.eps'), dpi=300)"
   ]
  },
  {
   "cell_type": "markdown",
   "metadata": {},
   "source": [
    "# Comparison of calculation time"
   ]
  },
  {
   "cell_type": "code",
   "execution_count": null,
   "metadata": {},
   "outputs": [],
   "source": [
    "n_sample = 10"
   ]
  },
  {
   "cell_type": "code",
   "execution_count": null,
   "metadata": {},
   "outputs": [],
   "source": [
    "#time using CNN\n",
    "\n",
    "from keras.models import load_model\n",
    "\n",
    "path = 'output/0211-174552/'\n",
    "model = load_model(os.path.join(path, 'best.h5'))\n",
    "x_train = np.load(os.path.join(path, 'x_train.npy'))\n",
    "y_train = np.load(os.path.join(path, 'y_train.npy'))\n",
    "idxs = np.random.randint(0, len(x_train), n_sample)\n",
    "%timeit pred = model.predict(x_train[idxs])"
   ]
  },
  {
   "cell_type": "code",
   "execution_count": null,
   "metadata": {},
   "outputs": [],
   "source": [
    "#time using SIMRIW\n",
    "import os\n",
    "import glob\n",
    "from pysimriw import simriw\n",
    "\n",
    "def simulate(csvpath, start_date):\n",
    "    \"\"\" Copy of script in simulate.py \"\"\"\n",
    "    simulated = simriw.main('Koshihikari', csvpath, True, start_date, 350, './cultivars.hjson', silent=True)\n",
    "    return None\n",
    "\n",
    "csvpaths = glob.glob('meshdata/*/*/*.csv')\n",
    "idxs = np.random.randint(0, len(csvpaths), n_sample)\n",
    "%timeit result = [simulate(csvpaths[idx], '2016-01-01') for idx in idxs]"
   ]
  }
 ],
 "metadata": {
  "kernelspec": {
   "display_name": "Python 3",
   "language": "python",
   "name": "python3"
  },
  "language_info": {
   "codemirror_mode": {
    "name": "ipython",
    "version": 3
   },
   "file_extension": ".py",
   "mimetype": "text/x-python",
   "name": "python",
   "nbconvert_exporter": "python",
   "pygments_lexer": "ipython3",
   "version": "3.6.8"
  },
  "toc": {
   "nav_menu": {},
   "number_sections": true,
   "sideBar": true,
   "skip_h1_title": false,
   "title_cell": "Table of Contents",
   "title_sidebar": "Contents",
   "toc_cell": false,
   "toc_position": {},
   "toc_section_display": "block",
   "toc_window_display": false
  }
 },
 "nbformat": 4,
 "nbformat_minor": 2
}
