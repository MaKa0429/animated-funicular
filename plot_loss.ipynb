{
 "cells": [
  {
   "cell_type": "code",
   "execution_count": null,
   "metadata": {},
   "outputs": [],
   "source": [
    "import os\n",
    "import glob\n",
    "import json\n",
    "import matplotlib.pyplot as plt\n",
    "\n",
    "import plotly\n",
    "plotly.offline.init_notebook_mode(connected=False)\n",
    "import plotly.graph_objs as go\n",
    "from plotly import tools"
   ]
  },
  {
   "cell_type": "code",
   "execution_count": null,
   "metadata": {
    "scrolled": false
   },
   "outputs": [],
   "source": [
    "dirs = glob.glob('output/*')\n",
    "dirs.sort()\n",
    "\n",
    "fig = tools.make_subplots(1, 2, shared_yaxes=True, print_grid=False, subplot_titles=['training', 'validation'])\n",
    "colors = iter(['#4363d8', '#f58231', '#fabebe', '#e6beff', '#800000', '#000075', '#a9a9a9', '#ffe119', '#000000'])\n",
    "results = []\n",
    "\n",
    "fig2, axes = plt.subplots(1, 2, figsize=(12, 4))\n",
    "\n",
    "for dir in dirs:\n",
    "\n",
    "    csvpath = os.path.join(dir, 'history.csv')\n",
    "    if not os.path.exists(csvpath):\n",
    "        continue\n",
    "        \n",
    "    with open(os.path.join(dir, 'args.json'), 'r') as fp:\n",
    "        args = json.load(fp)\n",
    "    noise = args['noise']\n",
    "    if args['optimizer'] != 'adam':\n",
    "        continue\n",
    "\n",
    "    color = next(colors)\n",
    "    name = dir.replace('output/', '')\n",
    "    df = pd.read_csv(csvpath, index_col=0)\n",
    "    df.index += 1\n",
    "    param = dict(line=dict(color=color), name=f'({noise}) {name}', legendgroup=name, mode='lines') \n",
    "    fig.add_trace(go.Scatter(x=df.index, y=df.loss, **param), 1, 1)\n",
    "    fig.add_trace(go.Scatter(x=df.index, y=df.val_loss, **param, showlegend=False), 1, 2)\n",
    "\n",
    "    df.loss.plot(ax=axes[0], label=f'[-{noise}, {noise}]', marker='.')\n",
    "    df.val_loss.plot(ax=axes[1], label=f'[-{noise}, {noise}]', marker='.')\n",
    "\n",
    "    results.append(dict(name=name, noise=noise, minloss=df.loss.min(), minvalloss=df.val_loss.min()))\n",
    "\n",
    "fig['layout'].update(height=300)\n",
    "fig['layout']['yaxis'].update(title='loss (MSE)', hoverformat='.5f', range=[0, 0.0015])\n",
    "plotly.offline.iplot(fig)\n",
    "\n",
    "for ax in axes.flatten():\n",
    "    ax.legend(loc='best')\n",
    "    ax.set_xlim(-1, 70)\n",
    "    ax.set_ylim(0, 0.0008)\n",
    "    ax.set_ylabel('loss (MSE)')\n",
    "fig2.tight_layout()\n",
    "fig2.savefig('output/loss.eps')\n",
    "\n",
    "results = pd.DataFrame(results)\n",
    "results.to_csv('output/loss.csv')\n",
    "results[['noise', 'minloss', 'minvalloss']].to_latex('output/loss.tex')\n",
    "results"
   ]
  },
  {
   "cell_type": "code",
   "execution_count": null,
   "metadata": {},
   "outputs": [],
   "source": [
    "#find epoch with the smallest validation loss\n",
    "\n",
    "df = pd.read_csv('output/0415-200054/history.csv', index_col='epoch')\n",
    "df.index += 1\n",
    "print(df.sort_values('val_loss').head(5))\n",
    "\n",
    "print('\\nTraining stopped at', df.index.max(), 'eopch.')"
   ]
  }
 ],
 "metadata": {
  "kernelspec": {
   "display_name": "Python 3",
   "language": "python",
   "name": "python3"
  },
  "language_info": {
   "codemirror_mode": {
    "name": "ipython",
    "version": 3
   },
   "file_extension": ".py",
   "mimetype": "text/x-python",
   "name": "python",
   "nbconvert_exporter": "python",
   "pygments_lexer": "ipython3",
   "version": "3.6.8"
  },
  "toc": {
   "nav_menu": {},
   "number_sections": true,
   "sideBar": true,
   "skip_h1_title": false,
   "title_cell": "Table of Contents",
   "title_sidebar": "Contents",
   "toc_cell": false,
   "toc_position": {},
   "toc_section_display": true,
   "toc_window_display": false
  }
 },
 "nbformat": 4,
 "nbformat_minor": 2
}
