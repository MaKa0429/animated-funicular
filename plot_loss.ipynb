{
 "cells": [
  {
   "cell_type": "code",
   "execution_count": null,
   "metadata": {},
   "outputs": [],
   "source": [
    "import os\n",
    "import glob\n",
    "import json\n",
    "import matplotlib.pyplot as plt\n",
    "\n",
    "import plotly\n",
    "plotly.offline.init_notebook_mode(connected=False)\n",
    "import plotly.graph_objs as go"
   ]
  },
  {
   "cell_type": "code",
   "execution_count": null,
   "metadata": {},
   "outputs": [],
   "source": [
    "dirs = glob.glob('output/*')\n",
    "dirs.sort()\n",
    "\n",
    "data = []\n",
    "colors = ['#4363d8', '#f58231', '#fabebe', '#e6beff', '#800000', '#000075', '#a9a9a9', '#ffe119', '#000000']\n",
    "\n",
    "fig2, axes = plt.subplots(2, 2, figsize=(12, 5))\n",
    "\n",
    "for dir in dirs:\n",
    "\n",
    "    csvpath = os.path.join(dir, 'history.csv')\n",
    "    if not os.path.exists(csvpath):\n",
    "        continue\n",
    "       \n",
    "    if 'output/02' not in dir:\n",
    "        continue\n",
    "        \n",
    "    with open(os.path.join(dir, 'args.json'), 'r') as fp:\n",
    "        args = json.load(fp)\n",
    "    noise = args['noise']\n",
    "\n",
    "    color = colors[int(len(data) / 2)]\n",
    "    name = dir.replace('output/', '')\n",
    "    df = pd.read_csv(csvpath, index_col=0)\n",
    "    df.index += 1\n",
    "    data += [\n",
    "        go.Scatter(x=df.index, y=df.loss,\n",
    "                   line=dict(color=color),\n",
    "                   name=name + f' (noise={noise})'),\n",
    "        go.Scatter(x=df.index, y=df.val_loss,\n",
    "                   line=dict(color=color, dash='dot'),\n",
    "                   name=name + f' (val noise={noise})')\n",
    "    ]\n",
    "    \n",
    "    param = dict(marker='.')\n",
    "    df.loss.plot(ax=axes[0, 0], label=f'[-{noise}, {noise}]', **param)\n",
    "    df.loss.plot(ax=axes[1, 0], **param)\n",
    "    df.val_loss.plot(ax=axes[0, 1], **param)\n",
    "    df.val_loss.plot(ax=axes[1, 1], **param)\n",
    "    \n",
    "layout = dict(\n",
    "    height=400,\n",
    "    xaxis=dict(title='epoch'),\n",
    "    yaxis=dict(title='loss (MSE)', hoverformat='.5f', range=[0, 0.0015]),\n",
    ")\n",
    "fig = go.Figure(data, layout)\n",
    "plotly.offline.iplot(fig)\n",
    "\n",
    "axes[0, 0].legend(loc='best')\n",
    "axes[0, 0].set_ylim(0, 0.4)\n",
    "axes[0, 1].set_ylim(0, 0.4)\n",
    "axes[1, 0].set_ylim(0, 0.0008)\n",
    "axes[1, 1].set_ylim(0, 0.0008)\n",
    "for ax in axes.flatten():\n",
    "    ax.set_ylabel('loss (MSE)')\n",
    "fig2.tight_layout()\n",
    "fig2.savefig('output/loss.eps')"
   ]
  }
 ],
 "metadata": {
  "kernelspec": {
   "display_name": "Python 3",
   "language": "python",
   "name": "python3"
  },
  "language_info": {
   "codemirror_mode": {
    "name": "ipython",
    "version": 3
   },
   "file_extension": ".py",
   "mimetype": "text/x-python",
   "name": "python",
   "nbconvert_exporter": "python",
   "pygments_lexer": "ipython3",
   "version": "3.6.8"
  },
  "toc": {
   "nav_menu": {},
   "number_sections": true,
   "sideBar": true,
   "skip_h1_title": false,
   "title_cell": "Table of Contents",
   "title_sidebar": "Contents",
   "toc_cell": false,
   "toc_position": {},
   "toc_section_display": true,
   "toc_window_display": false
  }
 },
 "nbformat": 4,
 "nbformat_minor": 2
}
