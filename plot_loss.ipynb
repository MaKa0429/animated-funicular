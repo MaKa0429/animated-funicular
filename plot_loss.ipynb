{
 "cells": [
  {
   "cell_type": "code",
   "execution_count": null,
   "metadata": {},
   "outputs": [],
   "source": [
    "import os\n",
    "import glob\n",
    "\n",
    "import plotly\n",
    "plotly.offline.init_notebook_mode(connected=False)\n",
    "import plotly.graph_objs as go"
   ]
  },
  {
   "cell_type": "code",
   "execution_count": null,
   "metadata": {},
   "outputs": [],
   "source": [
    "dirs = glob.glob('output/*')\n",
    "dirs.sort()\n",
    "\n",
    "data = []\n",
    "colors = ['#4363d8', '#f58231', '#fabebe', '#e6beff', '#800000', '#000075', '#a9a9a9', '#ffe119', '#000000']\n",
    "\n",
    "for dir in dirs:\n",
    "\n",
    "    csvpath = os.path.join(dir, 'history.csv')\n",
    "    \n",
    "    if not os.path.exists(csvpath):\n",
    "        continue\n",
    "\n",
    "    color = colors[int(len(data) / 2)]\n",
    "    name = dir.replace('output/', '')\n",
    "    df = pd.read_csv(csvpath, index_col=0)\n",
    "    data += [\n",
    "        go.Scatter(x=df.index,\n",
    "                   y=df.loss,\n",
    "                   line=dict(color=color),\n",
    "                   name=name),\n",
    "        go.Scatter(x=df.index,\n",
    "                   y=df.val_loss,\n",
    "                   line=dict(color=color, dash='dash'),\n",
    "                   name=name + ' (val)'),\n",
    "    ]\n",
    "    \n",
    "layout = dict(\n",
    "    height=400,\n",
    "    xaxis=dict(title='epoch'),\n",
    "    yaxis=dict(title='loss', hoverformat='.5f', range=[0, 0.003]),\n",
    ")\n",
    "fig = go.Figure(data, layout)\n",
    "plotly.offline.iplot(fig)"
   ]
  }
 ],
 "metadata": {
  "kernelspec": {
   "display_name": "Python 3",
   "language": "python",
   "name": "python3"
  },
  "language_info": {
   "codemirror_mode": {
    "name": "ipython",
    "version": 3
   },
   "file_extension": ".py",
   "mimetype": "text/x-python",
   "name": "python",
   "nbconvert_exporter": "python",
   "pygments_lexer": "ipython3",
   "version": "3.6.8"
  },
  "toc": {
   "nav_menu": {},
   "number_sections": true,
   "sideBar": true,
   "skip_h1_title": false,
   "title_cell": "Table of Contents",
   "title_sidebar": "Contents",
   "toc_cell": false,
   "toc_position": {},
   "toc_section_display": true,
   "toc_window_display": false
  }
 },
 "nbformat": 4,
 "nbformat_minor": 2
}
