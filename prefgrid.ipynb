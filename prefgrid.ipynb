{
 "cells": [
  {
   "cell_type": "code",
   "execution_count": null,
   "metadata": {},
   "outputs": [],
   "source": [
    "import hjson\n",
    "import folium"
   ]
  },
  {
   "cell_type": "code",
   "execution_count": null,
   "metadata": {},
   "outputs": [],
   "source": [
    "#init\n",
    "map = folium.Map(location=[35.170833333333334, 138.18125], zoom_start=5)\n",
    "\n",
    "#load\n",
    "with open('dataset.hjson', 'r') as f:\n",
    "    dataset = hjson.load(f)\n",
    "\n",
    "#save map\n",
    "for pref, v in dataset.items():\n",
    "    lat0 = v['lat0']\n",
    "    lat1 = v['lat1']\n",
    "    lon0 = v['lon0']\n",
    "    lon1 = v['lon1']\n",
    "    \n",
    "    if pref in ('akita', 'yamanashi', 'niigata'):\n",
    "        color = 'red'\n",
    "    else:\n",
    "        color = 'black'\n",
    "    \n",
    "    folium.PolyLine(\n",
    "        ([lat0, lon0], [lat0, lon1], [lat1, lon1], [lat1, lon0], [lat0, lon0]),\n",
    "        popup=pref,\n",
    "        color=color).add_to(map)\n",
    "\n",
    "map.save(f'/tmp/map.html')\n",
    "map"
   ]
  }
 ],
 "metadata": {
  "kernelspec": {
   "display_name": "Python 3",
   "language": "python",
   "name": "python3"
  },
  "toc": {
   "nav_menu": {},
   "number_sections": true,
   "sideBar": true,
   "skip_h1_title": false,
   "toc_cell": false,
   "toc_position": {},
   "toc_section_display": "block",
   "toc_window_display": false
  }
 },
 "nbformat": 4,
 "nbformat_minor": 2
}
