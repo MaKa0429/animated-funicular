{
 "cells": [
  {
   "cell_type": "code",
   "execution_count": null,
   "metadata": {},
   "outputs": [],
   "source": [
    "import os\n",
    "import glob\n",
    "import pandas as pd\n",
    "from tqdm import tqdm\n",
    "import AMD_Tools3 as amd\n",
    "\n",
    "%matplotlib inline"
   ]
  },
  {
   "cell_type": "code",
   "execution_count": null,
   "metadata": {},
   "outputs": [],
   "source": [
    "simdata = [pd.read_csv(csvpath) for csvpath in glob.glob('simdata/*.csv')]\n",
    "simdata = pd.concat(simdata, axis=0)\n",
    "\n",
    "print('simdata.shape:', simdata.shape)\n",
    "simdata.head()"
   ]
  },
  {
   "cell_type": "code",
   "execution_count": null,
   "metadata": {
    "scrolled": true
   },
   "outputs": [],
   "source": [
    "#\n",
    "# DVI map\n",
    "#\n",
    "\n",
    "import folium\n",
    "\n",
    "simdata_grouped = simdata.groupby(by=['meshcode', 'year']).DVI.max()\n",
    "print('len(DVI<1.9):', (simdata_grouped < 1.9).sum())\n",
    "print('len(simdata):', len(simdata_grouped))\n",
    "\n",
    "def meshcode2lat(meshcode):\n",
    "    latlon = amd.mesh2lalo(meshcode)\n",
    "    return latlon[0]\n",
    "\n",
    "def meshcode2lon(meshcode):\n",
    "    latlon = amd.mesh2lalo(meshcode)\n",
    "    return latlon[1]\n",
    "\n",
    "simdata2 = simdata_grouped.reset_index()\n",
    "simdata2['lat'] = simdata2.meshcode.astype(str).apply(meshcode2lat)\n",
    "simdata2['lon'] = simdata2.meshcode.astype(str).apply(meshcode2lon)\n",
    "\n",
    "fig, axes = plt.subplots(6, 7, figsize=(15, 10))\n",
    "for year, ax in zip(simdata2.year.unique(), axes.flatten()):\n",
    "    \n",
    "    #scatter plot\n",
    "    df = simdata2[simdata2.year == year].copy()\n",
    "    df.plot.scatter(x='lon', y='lat', c='DVI', ax=ax)\n",
    "    \n",
    "    #scatter map plot\n",
    "    # map = folium.Map(location=[35.170833333333334, 138.18125], zoom_start=6)\n",
    "    # for i, row in df.iterrows():\n",
    "    #     folium.CircleMarker([row['lat'], row['lon']], radius=1,\n",
    "    #                 popup=str(row['DVI']), fill_color=row['DVI'], fill_opacity=0.5).add_to(map)\n",
    "    # map\n",
    "    # map.save(f'output/heatmap_{year}.html')\n",
    "    # break\n",
    "    \n",
    "#show scatter\n",
    "plt.tight_layout()\n",
    "plt.show()"
   ]
  },
  {
   "cell_type": "code",
   "execution_count": null,
   "metadata": {},
   "outputs": [],
   "source": [
    "#\n",
    "# Histogram of inputs\n",
    "#\n",
    "\n",
    "dt = ['DVI', 'DVR', 'TAV', 'TMX', 'RAD', 'DL', 'PPM']\n",
    "fig, axes = plt.subplots(2, 4, figsize=(12, 5))\n",
    "cnt = 0\n",
    "\n",
    "for _dt in tqdm(dt):\n",
    "    ax = axes.flatten()[cnt]\n",
    "    df = simdata[_dt]\n",
    "    df.plot.hist(ax=ax)\n",
    "    ax.set_xlabel(_dt)\n",
    "    ax.set_ylabel('Frequency')\n",
    "    cnt += 1\n",
    "    \n",
    "fig.tight_layout()"
   ]
  },
  {
   "cell_type": "code",
   "execution_count": null,
   "metadata": {},
   "outputs": [],
   "source": [
    "#\n",
    "# Scatter matrix of inputs\n",
    "#\n",
    "\n",
    "import seaborn as sns\n",
    "sns.set(style=\"ticks\")\n",
    "\n",
    "dt = ['DVI', 'DVR', 'TAV', 'TMX', 'RAD', 'DL', 'PPM']\n",
    "df = simdata[dt]\n",
    "df = df.sample(frac=.005, axis=0)  # random sampling to make it fast\n",
    "print('df.shape:', df.shape)\n",
    "\n",
    "sns.pairplot(df, size=1.)"
   ]
  }
 ],
 "metadata": {
  "kernelspec": {
   "display_name": "Python 3",
   "language": "python",
   "name": "python3"
  },
  "language_info": {
   "codemirror_mode": {
    "name": "ipython",
    "version": 3
   },
   "file_extension": ".py",
   "mimetype": "text/x-python",
   "name": "python",
   "nbconvert_exporter": "python",
   "pygments_lexer": "ipython3",
   "version": "3.6.4"
  },
  "toc": {
   "nav_menu": {},
   "number_sections": true,
   "sideBar": true,
   "skip_h1_title": false,
   "toc_cell": false,
   "toc_position": {},
   "toc_section_display": "block",
   "toc_window_display": false
  }
 },
 "nbformat": 4,
 "nbformat_minor": 2
}
