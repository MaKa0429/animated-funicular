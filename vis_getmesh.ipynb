{
 "cells": [
  {
   "cell_type": "code",
   "execution_count": null,
   "metadata": {},
   "outputs": [],
   "source": [
    "import hjson\n",
    "import folium"
   ]
  },
  {
   "cell_type": "code",
   "execution_count": null,
   "metadata": {},
   "outputs": [],
   "source": [
    "#Calculate distance from latlon\n",
    "# https://qiita.com/s-wakaba/items/e12f2a575b6885579df7\n",
    "\n",
    "from math import sin, cos, acos, radians\n",
    "earth_rad = 6378.137\n",
    "\n",
    "def latlng_to_xyz(lat, lng):\n",
    "    rlat, rlng = radians(lat), radians(lng)\n",
    "    coslat = cos(rlat)\n",
    "    return coslat*cos(rlng), coslat*sin(rlng), sin(rlat)\n",
    "\n",
    "def dist_on_sphere(pos0, pos1, radious=earth_rad):\n",
    "    xyz0, xyz1 = latlng_to_xyz(*pos0), latlng_to_xyz(*pos1)\n",
    "    return acos(sum(x * y for x, y in zip(xyz0, xyz1)))*radious\n",
    "\n",
    "Osaka = 34.702113, 135.494807\n",
    "Tokyo = 35.681541, 139.767103\n",
    "London = 51.476853, 0.0\n",
    "\n",
    "print(dist_on_sphere(Osaka, Tokyo)) # 403.63km\n",
    "print(dist_on_sphere(London, Tokyo)) # 9571.22km"
   ]
  },
  {
   "cell_type": "code",
   "execution_count": null,
   "metadata": {},
   "outputs": [],
   "source": [
    "#init\n",
    "map = folium.Map(location=[35.170833333333334, 138.18125], zoom_start=4)\n",
    "\n",
    "#load\n",
    "with open('dataset.hjson', 'r') as f:\n",
    "    dataset = hjson.load(f)\n",
    "\n",
    "#save map\n",
    "for pref, v in dataset.items():\n",
    "    lat0 = v['lat0']\n",
    "    lat1 = v['lat1']\n",
    "    lon0 = v['lon0']\n",
    "    lon1 = v['lon1']\n",
    "    \n",
    "    if pref in ('akita', 'yamanashi', 'niigata'):\n",
    "        color = 'red'\n",
    "    else:\n",
    "        color = 'black'\n",
    "        \n",
    "    #distance\n",
    "    dist_lat = int(dist_on_sphere([lat0, lon0], [lat1, lon0]))\n",
    "    dist_lon = int(dist_on_sphere([lat0, lon0], [lat0, lon1]))\n",
    "    \n",
    "    #pop-up\n",
    "    popup = f'{pref} distance_lat={dist_lat} dist_lon={dist_lon}'\n",
    "    \n",
    "    #polyline\n",
    "    folium.PolyLine(\n",
    "        ([lat0, lon0], [lat0, lon1], [lat1, lon1], [lat1, lon0], [lat0, lon0]),\n",
    "        popup=popup,\n",
    "        color=color).add_to(map)\n",
    "    \n",
    "    #circle marker\n",
    "    folium.CircleMarker(\n",
    "        location=[lat0, lon0],\n",
    "        radius=1,\n",
    "        color='#3186cc', fill_color='#3186cc',\n",
    "    ).add_to(map)\n",
    "\n",
    "map.save(f'/tmp/map.html')\n",
    "map"
   ]
  }
 ],
 "metadata": {
  "kernelspec": {
   "display_name": "Python 3",
   "language": "python",
   "name": "python3"
  },
  "language_info": {
   "codemirror_mode": {
    "name": "ipython",
    "version": 3
   },
   "file_extension": ".py",
   "mimetype": "text/x-python",
   "name": "python",
   "nbconvert_exporter": "python",
   "pygments_lexer": "ipython3",
   "version": "3.6.3"
  },
  "toc": {
   "nav_menu": {},
   "number_sections": true,
   "sideBar": true,
   "skip_h1_title": false,
   "toc_cell": false,
   "toc_position": {},
   "toc_section_display": "block",
   "toc_window_display": false
  }
 },
 "nbformat": 4,
 "nbformat_minor": 2
}
