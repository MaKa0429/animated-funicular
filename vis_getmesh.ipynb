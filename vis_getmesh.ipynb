{
 "cells": [
  {
   "cell_type": "code",
   "execution_count": null,
   "metadata": {},
   "outputs": [],
   "source": [
    "import os\n",
    "import hjson\n",
    "import folium\n",
    "import glob"
   ]
  },
  {
   "cell_type": "markdown",
   "metadata": {},
   "source": [
    "# Area visualization"
   ]
  },
  {
   "cell_type": "code",
   "execution_count": null,
   "metadata": {},
   "outputs": [],
   "source": [
    "#Calculate distance from latlon\n",
    "# https://qiita.com/s-wakaba/items/e12f2a575b6885579df7\n",
    "\n",
    "from math import sin, cos, acos, radians\n",
    "earth_rad = 6378.137\n",
    "\n",
    "def latlng_to_xyz(lat, lng):\n",
    "    rlat, rlng = radians(lat), radians(lng)\n",
    "    coslat = cos(rlat)\n",
    "    return coslat*cos(rlng), coslat*sin(rlng), sin(rlat)\n",
    "\n",
    "def dist_on_sphere(pos0, pos1, radious=earth_rad):\n",
    "    xyz0, xyz1 = latlng_to_xyz(*pos0), latlng_to_xyz(*pos1)\n",
    "    return acos(sum(x * y for x, y in zip(xyz0, xyz1)))*radious\n",
    "\n",
    "Osaka = 34.702113, 135.494807\n",
    "Tokyo = 35.681541, 139.767103\n",
    "London = 51.476853, 0.0\n",
    "\n",
    "print(dist_on_sphere(Osaka, Tokyo)) # 403.63km\n",
    "print(dist_on_sphere(London, Tokyo)) # 9571.22km"
   ]
  },
  {
   "cell_type": "code",
   "execution_count": null,
   "metadata": {},
   "outputs": [],
   "source": [
    "#init\n",
    "map = folium.Map(location=[35.170833333333334, 138.18125], zoom_start=4)\n",
    "\n",
    "#load\n",
    "with open('dataset.hjson', 'r') as f:\n",
    "    dataset = hjson.load(f)\n",
    "\n",
    "#save map\n",
    "for pref, v in dataset.items():\n",
    "    lat0 = v['lat0']\n",
    "    lat1 = v['lat1']\n",
    "    lon0 = v['lon0']\n",
    "    lon1 = v['lon1']\n",
    "    \n",
    "    if pref[-1] == '2':\n",
    "        weight, color = 2, 'red'\n",
    "    else:\n",
    "        weight, color = 3, 'black'\n",
    "        \n",
    "    #distance\n",
    "    dist_lat = int(dist_on_sphere([lat0, lon0], [lat1, lon0]))\n",
    "    dist_lon = int(dist_on_sphere([lat0, lon0], [lat0, lon1]))\n",
    "    \n",
    "    #pop-up\n",
    "    popup = f'{pref} distance_lat={dist_lat} dist_lon={dist_lon}'\n",
    "    \n",
    "    #polyline\n",
    "    folium.PolyLine(\n",
    "        ([lat0, lon0], [lat0, lon1], [lat1, lon1], [lat1, lon0], [lat0, lon0]),\n",
    "        popup=popup,\n",
    "        weight=weight,\n",
    "        color=color).add_to(map)\n",
    "    \n",
    "    #circle marker\n",
    "    folium.CircleMarker(\n",
    "        location=[lat0, lon0],\n",
    "        radius=1,\n",
    "        color='#3186cc', fill_color='#3186cc',\n",
    "    ).add_to(map)\n",
    "\n",
    "map.save(f'/tmp/map.html')\n",
    "map"
   ]
  },
  {
   "cell_type": "markdown",
   "metadata": {},
   "source": [
    "# No data on the sea?"
   ]
  },
  {
   "cell_type": "code",
   "execution_count": null,
   "metadata": {
    "scrolled": false
   },
   "outputs": [],
   "source": [
    "import matplotlib.cm as cm\n",
    "from matplotlib.colors import Normalize\n",
    "\n",
    "def value_to_hex(value, vmin=0, vmax=25):\n",
    "    cmap = cm.plasma\n",
    "    norm = Normalize(vmin=vmin, vmax=vmax)\n",
    "    rgb = cmap(norm(value))[:3]\n",
    "    r, g, b = (np.array(rgb) * 255).astype(int)\n",
    "    hex = \"#{0:02x}{1:02x}{2:02x}\".format(r, g, b)\n",
    "    return hex\n",
    "\n",
    "areas = ('hokkaido', 'tohoku', 'kanto-hokuriku', 'kyushu', 'nishi-nihon')\n",
    "year = 1980\n",
    "\n",
    "map = folium.Map(location=[35.1708333, 138.18125], zoom_start=5)\n",
    "\n",
    "for area in areas:\n",
    "    path = os.path.join('meshdata', area, str(year), '*.csv')\n",
    "    csvpaths = glob.glob(path)\n",
    "    csvpaths.sort()\n",
    "\n",
    "    for i, csvpath in enumerate(csvpaths):\n",
    "\n",
    "        if i % 20 != 0:\n",
    "            continue\n",
    "\n",
    "        csv = pd.read_csv(csvpath, comment='#', index_col='date')\n",
    "        lat = csv.lat[0]\n",
    "        lon = csv.lon[0]\n",
    "        null_ratio = (1 - pd.isnull(csv.T2M).mean())   # more null, larger circle\n",
    "        mean_temp = csv.T2M.mean()\n",
    "        popup = str(int(null_ratio*100)) + '% ' + str(int(mean_temp)) + '℃'\n",
    "        folium.CircleMarker([lat, lon], radius=null_ratio*5, popup=popup,\n",
    "                    fill=True, fill_color=value_to_hex(mean_temp), fill_opacity=0.8).add_to(map)\n",
    "map"
   ]
  }
 ],
 "metadata": {
  "kernelspec": {
   "display_name": "Python 3",
   "language": "python",
   "name": "python3"
  },
  "language_info": {
   "codemirror_mode": {
    "name": "ipython",
    "version": 3
   },
   "file_extension": ".py",
   "mimetype": "text/x-python",
   "name": "python",
   "nbconvert_exporter": "python",
   "pygments_lexer": "ipython3",
   "version": "3.6.3"
  },
  "toc": {
   "nav_menu": {},
   "number_sections": true,
   "sideBar": true,
   "skip_h1_title": false,
   "toc_cell": false,
   "toc_position": {},
   "toc_section_display": "block",
   "toc_window_display": false
  }
 },
 "nbformat": 4,
 "nbformat_minor": 2
}
