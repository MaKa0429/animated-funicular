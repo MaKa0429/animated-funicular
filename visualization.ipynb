{
 "cells": [
  {
   "cell_type": "code",
   "execution_count": null,
   "metadata": {
    "ExecuteTime": {
     "end_time": "2018-01-14T01:54:12.244116Z",
     "start_time": "2018-01-14T01:54:12.224091Z"
    }
   },
   "outputs": [],
   "source": [
    "from __future__ import print_function\n",
    "import os\n",
    "import numpy as np\n",
    "from tqdm import tqdm\n",
    "# import pandas as pd\n",
    "import matplotlib.pyplot as plt\n",
    "\n",
    "__autor__ = 'Kyosuke Yamamoto (kyon)'\n",
    "__date__ = '31 Dec 2017'"
   ]
  },
  {
   "cell_type": "markdown",
   "metadata": {},
   "source": [
    "# Sumarize results"
   ]
  },
  {
   "cell_type": "code",
   "execution_count": null,
   "metadata": {},
   "outputs": [],
   "source": [
    "import re\n",
    "import glob\n",
    "\n",
    "results = {}\n",
    "\n",
    "for dir in glob.glob('output/*'):\n",
    "\n",
    "    # skipped folders\n",
    "    if os.path.splitext(dir)[-1] == '.py':\n",
    "        continue\n",
    "    elif os.path.basename(dir) == 'old':\n",
    "        continue\n",
    "\n",
    "    # log exists?\n",
    "    logpath = os.path.join(dir, 'log')\n",
    "    if not os.path.exists(logpath):\n",
    "        continue\n",
    "        \n",
    "    #init result\n",
    "    key = os.path.basename(dir)\n",
    "    results[key] = {}\n",
    "\n",
    "    # load log\n",
    "    with open(logpath, 'r') as f:\n",
    "        log = f.readlines()\n",
    "    for line in log:\n",
    "        if 'Namespace' in line:\n",
    "            # print(line)\n",
    "            results[key]['batchsize'] = int(re.search('batchsize=([0-9]{,3}),', line).group(1))\n",
    "            results[key]['debug'] = str(re.search('debug=(.{,5}),', line).group(1))\n",
    "            results[key]['epochs'] = int(re.search('epochs=([0-9]{,4}),', line).group(1))\n",
    "            results[key]['threshold'] = int(re.search('threshold=([0-9]{,3})', line).group(1))\n",
    "            try:\n",
    "                results[key]['optimizer'] = str(re.search(\"optimizer='(.{,10})',\", line).group(1))\n",
    "                results[key]['input'] = str(re.search(\"input=\\[(.+)\\],\", line).group(1))\n",
    "                results[key]['model'] = str(re.search(\"model='(.{,3})',\", line).group(1))\n",
    "            except:\n",
    "                pass\n",
    "        elif 'acc' in line:\n",
    "            match = re.search('\\>\\s.+\\:\\s(.*)', line)\n",
    "            mae = float(match.group(1))\n",
    "            results[key]['MAE'] = round(mae, 4)\n",
    "            \n",
    "results = pd.DataFrame(results).T\n",
    "results.index = pd.to_datetime(results.index, format='%m-%d-%H-%M-%S')\n",
    "results"
   ]
  },
  {
   "cell_type": "code",
   "execution_count": null,
   "metadata": {
    "ExecuteTime": {
     "end_time": "2018-01-14T01:54:12.244116Z",
     "start_time": "2018-01-14T01:54:12.224091Z"
    }
   },
   "outputs": [],
   "source": [
    "#easydict\n",
    "import easydict\n",
    "args = easydict.EasyDict({\n",
    "        'path': './output/03-24-21-21-23',\n",
    "})\n",
    "\n",
    "#init\n",
    "outdir = args.path\n",
    "\n",
    "#accuracies\n",
    "with open(os.path.join(args.path, 'log')) as f:\n",
    "    lines = f.readlines()\n",
    "    for line in lines:\n",
    "        if line.find('Test') >= 0:\n",
    "            print(line[:-1])\n",
    "\n",
    "#ml.png\n",
    "from PIL import Image\n",
    "image = Image.open(os.path.join(args.path, 'ml.png'))\n",
    "image.resize((500, 500))"
   ]
  },
  {
   "cell_type": "code",
   "execution_count": null,
   "metadata": {
    "ExecuteTime": {
     "end_time": "2018-01-14T01:54:19.103188Z",
     "start_time": "2018-01-14T01:54:14.426545Z"
    }
   },
   "outputs": [],
   "source": [
    "from vis.utils import utils\n",
    "from keras import activations\n",
    "from keras.models import load_model\n",
    "from vis.visualization import visualize_activation\n",
    "from vis.input_modifiers import Jitter\n",
    "\n",
    "model = load_model(os.path.join(args.path, 'model.h5'))\n",
    "model.summary()\n",
    "\n",
    "# from IPython.display import SVG\n",
    "# from keras.utils.vis_utils import model_to_dot\n",
    "# SVG(model_to_dot(model).create(prog='dot', format='svg'))"
   ]
  },
  {
   "cell_type": "markdown",
   "metadata": {},
   "source": [
    "# Layer & filter visualization"
   ]
  },
  {
   "cell_type": "code",
   "execution_count": null,
   "metadata": {
    "ExecuteTime": {
     "end_time": "2018-01-13T08:06:34.233281Z",
     "start_time": "2018-01-13T08:06:26.218070Z"
    }
   },
   "outputs": [],
   "source": [
    "#\n",
    "# Denase Layer Visualization\n",
    "#\n",
    "\n",
    "result = {}\n",
    "\n",
    "layer_idx = utils.find_layer_idx(model, 'dense_2')   # last layer\n",
    "result['normal'] = visualize_activation(model, layer_idx, filter_indices=0)\n",
    "result['iter_50'] = visualize_activation(model, layer_idx, filter_indices=0, max_iter=50, verbose=False)\n",
    "result['iter_500'] = visualize_activation(model, layer_idx, filter_indices=0, max_iter=500, verbose=False)\n",
    "# result['iter_1000'] = visualize_activation(model, layer_idx, filter_indices=0, max_iter=1000, verbose=False)\n",
    "result['Jitter'] = visualize_activation(model, layer_idx, filter_indices=0, max_iter=50, input_modifiers=[Jitter(16)])\n",
    "#TODO(kyon): plot history\n",
    "\n",
    "fig, axes = plt.subplots(1, len(result.keys()))\n",
    "for i, (title, img) in enumerate(result.items()):\n",
    "    ax = axes[i]\n",
    "    # ax.axis('off')\n",
    "    ax.set_title(title)\n",
    "    cax = ax.imshow(img[..., 0], interpolation='nearest', aspect='auto',\n",
    "                   clim=(np.array(list(result.values())).min(), np.array(list(result.values())).max()))\n",
    "fig.colorbar(cax)\n",
    "fig.tight_layout()\n",
    "fig.savefig(os.path.join(outdir, 'dense_layer_vis.pdf'))"
   ]
  },
  {
   "cell_type": "code",
   "execution_count": null,
   "metadata": {
    "ExecuteTime": {
     "end_time": "2018-01-13T08:03:22.487801Z",
     "start_time": "2018-01-13T08:03:20.427859Z"
    }
   },
   "outputs": [],
   "source": [
    "#\n",
    "# Conv filter visualization\n",
    "#\n",
    "\n",
    "# TODO: Try Jitter (already tried but could not understand the result...)\n",
    "\n",
    "from vis.visualization import get_num_filters\n",
    "\n",
    "#Visualize all filters in this layer\n",
    "layer_idx = utils.find_layer_idx(model, 'conv2d_1')\n",
    "filters = np.arange(get_num_filters(model.layers[layer_idx]))\n",
    "\n",
    "#generate input image for each filter\n",
    "vis_images = []\n",
    "for idx in tqdm(filters):\n",
    "    img = visualize_activation(model, layer_idx, filter_indices=idx)\n",
    "    vis_images.append(img)\n",
    "\n",
    "#plot\n",
    "fig, axes = plt.subplots(3, 12)\n",
    "for i, (img, ax) in enumerate(zip(vis_images, axes.flatten())):\n",
    "    ax.axis('off')\n",
    "    ax.set_title(f'l{i}')\n",
    "    cax = ax.imshow(img[..., 0], interpolation='nearest',\n",
    "                    aspect='auto', clim=(np.array(vis_images).min(), np.array(vis_images).max()))\n",
    "fig.colorbar(cax)\n",
    "# fig.tight_layout()\n",
    "fig.savefig(os.path.join(outdir, 'conv_layer_vis.pdf'))"
   ]
  },
  {
   "cell_type": "markdown",
   "metadata": {
    "ExecuteTime": {
     "end_time": "2018-01-14T01:54:22.650274Z",
     "start_time": "2018-01-14T01:54:22.621690Z"
    }
   },
   "source": [
    "# Attension Map"
   ]
  },
  {
   "cell_type": "code",
   "execution_count": null,
   "metadata": {
    "ExecuteTime": {
     "end_time": "2018-01-14T01:54:22.650274Z",
     "start_time": "2018-01-14T01:54:22.621690Z"
    }
   },
   "outputs": [],
   "source": [
    "import matplotlib.cm as cm\n",
    "from vis.visualization import visualize_saliency\n",
    "\n",
    "x_train = np.load(os.path.join(args.path, 'x_train.npy'))\n",
    "y_train = np.load(os.path.join(args.path, 'y_train.npy'))\n",
    "r_train = np.load(os.path.join(args.path, 'r_train.npy'))"
   ]
  },
  {
   "cell_type": "markdown",
   "metadata": {},
   "source": [
    "## Saliency"
   ]
  },
  {
   "cell_type": "code",
   "execution_count": null,
   "metadata": {
    "ExecuteTime": {
     "end_time": "2018-01-14T01:55:04.227605Z",
     "start_time": "2018-01-14T01:54:24.481312Z"
    },
    "scrolled": false
   },
   "outputs": [],
   "source": [
    "#\n",
    "# saliency of y=0~1\n",
    "#\n",
    "\n",
    "fig, axes = plt.subplots(10, 5, figsize=(10, 20))\n",
    "\n",
    "for cnt, y_th in enumerate(tqdm(np.arange(0, 1, .1))):\n",
    "\n",
    "    x = x_train[(y_train.flatten() >= y_th-.03) & (y_train.flatten() < y_th+.03)][0]\n",
    "    r = r_train[(y_train.flatten() >= y_th-.03) & (y_train.flatten() < y_th+.03)][0]\n",
    "    y = y_train[(y_train.flatten() >= y_th-.03) & (y_train.flatten() < y_th+.03)][0][0]\n",
    "    \n",
    "    #plot inputs\n",
    "    ax = axes[cnt, 0]\n",
    "    cax = ax.imshow(x[..., 0], cmap='jet', clim=(0, 1), interpolation='nearest', aspect='auto')\n",
    "    ax.axis('off')\n",
    "    ax.set_title(f'input (y={y:.2f})')\n",
    "    fig.colorbar(cax, orientation='horizontal', ax=ax)\n",
    "    \n",
    "    #plot DVI\n",
    "    ax = axes[cnt, 4]\n",
    "    dvi = r[:, 0]    # fixed!\n",
    "    ax.plot(dvi, range(len(dvi)))\n",
    "    ax.set_ylim(350, 0)\n",
    "    # cax = ax.imshow(dvi, cmap='jet', clim=(0, 2), interpolation='nearest', aspect='auto')\n",
    "    # ax.axis('off')\n",
    "    # ax.set_title('DVI')\n",
    "    # fig.colorbar(cax, orientation='horizontal', ax=ax, ticks=[0, 1, 2])\n",
    "    \n",
    "    #plot saliencies\n",
    "    modifiers = [None, 'negate', 'small_values']\n",
    "    for j, modifier in enumerate(modifiers):\n",
    "\n",
    "        layer_idx = utils.find_layer_idx(model, 'dense_2')\n",
    "        grads = visualize_saliency(model, layer_idx, filter_indices=0,\n",
    "                                   seed_input=x, grad_modifier=modifier)\n",
    "        x = axes[cnt, j+1]\n",
    "        ax.axis('off')\n",
    "        cax = ax.imshow(grads, cmap='jet', clim=(0, 1), interpolation='nearest', aspect='auto')\n",
    "        fig.colorbar(cax, orientation='horizontal', ax=ax)\n",
    "        \n",
    "        if cnt == 0:\n",
    "            ax.set_title('positive' if modifier is None else modifier)\n",
    "\n",
    "fig.tight_layout()\n",
    "fig.savefig(os.path.join(outdir, 'saliency_vis_y0-1.png'), dpi=200)"
   ]
  },
  {
   "cell_type": "code",
   "execution_count": null,
   "metadata": {
    "ExecuteTime": {
     "end_time": "2018-01-14T01:55:04.227605Z",
     "start_time": "2018-01-14T01:54:24.481312Z"
    },
    "scrolled": false
   },
   "outputs": [],
   "source": [
    "#\n",
    "# saliency of fixed-y\n",
    "#\n",
    "\n",
    "fig, axes = plt.subplots(10, 5, figsize=(10, 20))\n",
    "\n",
    "for cnt in tqdm(range(10)):\n",
    "\n",
    "    y_th = 0.6\n",
    "    x = x_train[(y_train.flatten() >= y_th-.03) & (y_train.flatten() < y_th+.03)][cnt]\n",
    "    r = r_train[(y_train.flatten() >= y_th-.03) & (y_train.flatten() < y_th+.03)][cnt]\n",
    "    y = y_train[(y_train.flatten() >= y_th-.03) & (y_train.flatten() < y_th+.03)][cnt][0]\n",
    "    \n",
    "    #plot inputs\n",
    "    ax = axes[cnt, 0]\n",
    "    cax = ax.imshow(x[..., 0], cmap='jet', clim=(0, 1), interpolation='nearest', aspect='auto')\n",
    "    ax.axis('off')\n",
    "    ax.set_title(f'input (y={y:.2f})')\n",
    "    fig.colorbar(cax, orientation='horizontal', ax=ax)\n",
    "    \n",
    "    #plot DVI\n",
    "    ax = axes[cnt, 4]\n",
    "    dvi = r[:, 0]    # fixed!\n",
    "    ax.plot(dvi, range(len(dvi)))\n",
    "    ax.set_ylim(350, 0)\n",
    "    \n",
    "    #plot saliencies\n",
    "    modifiers = [None, 'negate', 'small_values']\n",
    "    for j, modifier in enumerate(modifiers):\n",
    "\n",
    "        layer_idx = utils.find_layer_idx(model, 'dense_2')\n",
    "        grads = visualize_saliency(model, layer_idx, filter_indices=0,\n",
    "                                   seed_input=x, grad_modifier=modifier)\n",
    "        ax = axes[cnt, j+1]\n",
    "        ax.axis('off')\n",
    "        cax = ax.imshow(grads, cmap='jet', clim=(0, 1), interpolation='nearest', aspect='auto')\n",
    "        fig.colorbar(cax, orientation='horizontal', ax=ax)\n",
    "        \n",
    "        if cnt == 0:\n",
    "            ax.set_title('positive' if modifier is None else modifier)\n",
    "    \n",
    "fig.tight_layout()\n",
    "fig.savefig(os.path.join(outdir, 'saliency_vis_fixed_y.png'), dpi=200)"
   ]
  },
  {
   "cell_type": "code",
   "execution_count": null,
   "metadata": {
    "ExecuteTime": {
     "end_time": "2018-01-14T01:55:04.227605Z",
     "start_time": "2018-01-14T01:54:24.481312Z"
    },
    "scrolled": false
   },
   "outputs": [],
   "source": [
    "#\n",
    "# saliency of all images\n",
    "# relation between saliency and dvi\n",
    "#\n",
    "\n",
    "from collections import defaultdict\n",
    "\n",
    "modifiers = {'positive': None, 'negate': 'negate', 'small_values': 'small_values'}\n",
    "layer_idx = utils.find_layer_idx(model, 'dense_2')\n",
    "saliencies = {}\n",
    "\n",
    "for modifier_tile, modifier in modifiers.items():\n",
    "    saliency = []\n",
    "        \n",
    "    for cnt in tqdm(range(1000)):\n",
    "        \n",
    "        try:\n",
    "            i = np.random.randint(0, len(x_train))\n",
    "\n",
    "            x = x_train[i]\n",
    "            r = r_train[i]\n",
    "            y = y_train[i][0]\n",
    "            dvi = r[:, 0, 0]    # fixed! (DVI is in 0th column)\n",
    "\n",
    "        except:\n",
    "            print('failed in hoge')\n",
    "            pass\n",
    "        \n",
    "        try:\n",
    "            grads = visualize_saliency(model, layer_idx, filter_indices=0, seed_input=x, grad_modifier=modifier)\n",
    "        except:\n",
    "            print('failed in vis')\n",
    "            pass\n",
    "\n",
    "        try:\n",
    "            for col in range(x.shape[1]):\n",
    "                saliency.append(pd.DataFrame(\n",
    "                    {'column': col, 'image_num': i, 'dvi': dvi, 'saliency': grads[:, col]}))\n",
    "        except:\n",
    "            print('failed in dict')\n",
    "            pass\n",
    "            \n",
    "        #debug\n",
    "        # if i > 3:\n",
    "        #     break\n",
    "            \n",
    "    #save as dict\n",
    "    saliencies[modifier_tile] = saliency"
   ]
  },
  {
   "cell_type": "code",
   "execution_count": null,
   "metadata": {},
   "outputs": [],
   "source": [
    "for modifier_tile, saliency in saliencies.items():\n",
    "    \n",
    "    print(modifier_tile)\n",
    "    df = pd.concat(saliency)\n",
    "    fig, axes = plt.subplots(2, 3)\n",
    "\n",
    "    for i, column in enumerate(df.column.unique()):\n",
    "        ax = axes.flatten()[i]\n",
    "        df[df.column == column].plot.scatter(x='dvi', y='saliency', ax=ax)\n",
    "        ax.set_title(f'column={column}')\n",
    "\n",
    "    # fig.subtitle(modifier_tile)\n",
    "    fig.tight_layout()"
   ]
  },
  {
   "cell_type": "markdown",
   "metadata": {
    "heading_collapsed": true
   },
   "source": [
    "## CAM"
   ]
  },
  {
   "cell_type": "code",
   "execution_count": null,
   "metadata": {
    "ExecuteTime": {
     "end_time": "2018-01-14T01:56:09.516791Z",
     "start_time": "2018-01-14T01:55:26.115536Z"
    },
    "hidden": true
   },
   "outputs": [],
   "source": [
    "#cam\n",
    "\n",
    "from vis.visualization import visualize_cam\n",
    "\n",
    "fig, axes = plt.subplots(10, 4, figsize=(10, 20))\n",
    "cnt = 0\n",
    "\n",
    "for y in tqdm(np.arange(0, 1, .1)):\n",
    "\n",
    "    x = x_train[(y_train.flatten() >= y-.03) & (y_train.flatten() < y+.03)][0]\n",
    "    y = y_train[(y_train.flatten() >= y-.03) & (y_train.flatten() < y+.03)][0][0]\n",
    "    ax = axes[cnt, 0]\n",
    "    cax = ax.imshow(x[..., 0], cmap='jet', clim=(0, 1), interpolation='nearest', aspect='auto')\n",
    "    ax.axis('off')\n",
    "    ax.set_title(f'input (y={y:.2f})')\n",
    "    fig.colorbar(cax, orientation='horizontal', ax=ax)\n",
    "    \n",
    "    modifiers = [None, 'negate', 'small_values']\n",
    "\n",
    "    for j, modifier in enumerate(modifiers):\n",
    "\n",
    "        layer_idx = utils.find_layer_idx(model, 'dense_2')\n",
    "        grads = visualize_cam(model, layer_idx, filter_indices=0,\n",
    "                              seed_input=x, grad_modifier=modifier)\n",
    "        #TODO: grads is 3-channels image.\n",
    "        ax = axes[cnt, j+1]\n",
    "        ax.axis('off')\n",
    "        cax = ax.imshow(grads, cmap='jet', clim=(0, 255), interpolation='nearest', aspect='auto')\n",
    "        fig.colorbar(cax, orientation='horizontal', ax=ax)\n",
    "        \n",
    "        if cnt == 0:\n",
    "            ax.set_title('positive' if modifier is None else modifier)\n",
    "    \n",
    "    cnt += 1\n",
    "\n",
    "fig.tight_layout()\n",
    "fig.savefig(os.path.join(outdir, 'cam_vis.pdf'))"
   ]
  }
 ],
 "metadata": {
  "kernelspec": {
   "display_name": "Python 3",
   "language": "python",
   "name": "python3"
  },
  "language_info": {
   "codemirror_mode": {
    "name": "ipython",
    "version": 3
   },
   "file_extension": ".py",
   "mimetype": "text/x-python",
   "name": "python",
   "nbconvert_exporter": "python",
   "pygments_lexer": "ipython3",
   "version": "3.6.3"
  },
  "toc": {
   "nav_menu": {},
   "number_sections": true,
   "sideBar": true,
   "skip_h1_title": false,
   "toc_cell": false,
   "toc_position": {},
   "toc_section_display": "block",
   "toc_window_display": false
  }
 },
 "nbformat": 4,
 "nbformat_minor": 2
}
