{
 "cells": [
  {
   "cell_type": "code",
   "execution_count": null,
   "metadata": {
    "ExecuteTime": {
     "end_time": "2018-01-13T07:13:02.160734Z",
     "start_time": "2018-01-13T07:13:02.143802Z"
    }
   },
   "outputs": [],
   "source": [
    "from __future__ import print_function\n",
    "import os\n",
    "import numpy as np\n",
    "from tqdm import tqdm\n",
    "# import pandas as pd\n",
    "import matplotlib.pyplot as plt\n",
    "\n",
    "__autor__ = 'Kyosuke Yamamoto (kyon)'\n",
    "__date__ = '31 Dec 2017'\n",
    "\n",
    "#easydict\n",
    "import easydict\n",
    "args = easydict.EasyDict({\n",
    "        'path': './output/180107180327/model.h5',\n",
    "})\n",
    "\n",
    "#init\n",
    "# plt.style.use('ggplot')\n",
    "basedir = os.path.dirname(args.path)\n",
    "outdir = os.path.dirname(args.path)"
   ]
  },
  {
   "cell_type": "code",
   "execution_count": null,
   "metadata": {
    "ExecuteTime": {
     "end_time": "2018-01-13T07:13:06.354776Z",
     "start_time": "2018-01-13T07:13:03.206440Z"
    }
   },
   "outputs": [],
   "source": [
    "from vis.utils import utils\n",
    "from keras import activations\n",
    "from keras.models import load_model\n",
    "from vis.visualization import visualize_activation\n",
    "from vis.input_modifiers import Jitter\n",
    "\n",
    "model = load_model(args.path)"
   ]
  },
  {
   "cell_type": "code",
   "execution_count": null,
   "metadata": {
    "ExecuteTime": {
     "end_time": "2018-01-13T07:13:17.481096Z",
     "start_time": "2018-01-13T07:13:08.900503Z"
    }
   },
   "outputs": [],
   "source": [
    "#\n",
    "# Denase Layer Visualization\n",
    "#\n",
    "\n",
    "#Visualizing a specific output category\n",
    "layer_idx = utils.find_layer_idx(model, 'dense_2')   # last layer\n",
    "img1 = visualize_activation(model, layer_idx, filter_indices=0)\n",
    "img2 = visualize_activation(model, layer_idx, filter_indices=0, max_iter=500, verbose=False)\n",
    "img3 = visualize_activation(model, layer_idx, filter_indices=0, max_iter=500, input_modifiers=[Jitter(16)])\n",
    "\n",
    "#TODO(kyon): plot history\n",
    "stitched = utils.stitch_images([img1, img2, img3], cols=3)\n",
    "fig, ax = plt.subplots(1, 1)\n",
    "ax.axis('off')\n",
    "cax = ax.imshow(stitched[:, :, 0])\n",
    "fig.colorbar(cax)\n",
    "fig.savefig(os.path.join(outdir, 'dense_layer_vis.pdf'))"
   ]
  },
  {
   "cell_type": "code",
   "execution_count": null,
   "metadata": {
    "ExecuteTime": {
     "end_time": "2018-01-13T07:14:17.503385Z",
     "start_time": "2018-01-13T07:13:44.028470Z"
    }
   },
   "outputs": [],
   "source": [
    "#\n",
    "# Conv filter visualization\n",
    "#\n",
    "\n",
    "# TODO: Try Jitter (already tried but could not understand the result...)\n",
    "\n",
    "from vis.visualization import get_num_filters\n",
    "\n",
    "#Visualize all filters in this layer\n",
    "layer_idx = utils.find_layer_idx(model, 'conv2d_1')\n",
    "filters = np.arange(get_num_filters(model.layers[layer_idx]))\n",
    "\n",
    "#generate input image for each filter\n",
    "vis_images = []\n",
    "for idx in tqdm(filters):\n",
    "    img = visualize_activation(model, layer_idx, filter_indices=idx)\n",
    "    # img = utils.draw_text(img[:, :, 0], f'Filter {idx}', font='ipaexg', color=0)\n",
    "    # img = np.expand_dims(img, axis=2)\n",
    "    vis_images.append(img)\n",
    "\n",
    "#plot\n",
    "stitched = utils.stitch_images(vis_images, cols=32)\n",
    "fig, ax = plt.subplots(1, 1)\n",
    "ax.axis('off')\n",
    "cax = ax.imshow(stitched[:, :, 0])\n",
    "fig.colorbar(cax)\n",
    "fig.savefig(os.path.join(outdir, 'conv_layer_vis.pdf'))"
   ]
  },
  {
   "cell_type": "code",
   "execution_count": null,
   "metadata": {
    "ExecuteTime": {
     "end_time": "2018-01-13T03:30:05.506209Z",
     "start_time": "2018-01-13T03:29:35.017250Z"
    }
   },
   "outputs": [],
   "source": [
    "#\n",
    "# Attension Map\n",
    "#\n",
    "\n",
    "import matplotlib.cm as cm\n",
    "from vis.visualization import visualize_saliency\n",
    "\n",
    "x_train = np.load(os.path.join(basedir, 'x_train.npy'))\n",
    "y_train = np.load(os.path.join(basedir, 'y_train.npy'))\n",
    "fig, axes = plt.subplots(10, 4, figsize=(6.4*2, 4.8*2))\n",
    "cnt = 0\n",
    "\n",
    "for y in tqdm(np.arange(0, 1, .1)):\n",
    "\n",
    "    img = x_train[(y_train.flatten() >= y-.1) & (y_train.flatten() < y+.1)][0]\n",
    "    axes[cnt, 0].imshow(img[..., 0], cmap='jet')\n",
    "\n",
    "    for j, modifier in enumerate([None, 'guided', 'relu']):\n",
    "\n",
    "        layer_idx = utils.find_layer_idx(model, 'dense_2')\n",
    "        grads = visualize_saliency(model, layer_idx, filter_indices=0,\n",
    "                                   seed_input=img, backprop_modifier=modifier)\n",
    "        ax = axes[cnt, j+1]\n",
    "        ax.axis('off')\n",
    "        ax.imshow(grads, cmap='jet')\n",
    "        # ax.set_title('vanilla' if modifier is None else modifier)\n",
    "    \n",
    "    cnt += 1\n",
    "\n",
    "fig.savefig(os.path.join(outdir, 'cam.pdf'))"
   ]
  }
 ],
 "metadata": {
  "kernelspec": {
   "display_name": "Python 3",
   "language": "python",
   "name": "python3"
  },
  "language_info": {
   "codemirror_mode": {
    "name": "ipython",
    "version": 3
   },
   "file_extension": ".py",
   "mimetype": "text/x-python",
   "name": "python",
   "nbconvert_exporter": "python",
   "pygments_lexer": "ipython3",
   "version": "3.6.4"
  },
  "toc": {
   "nav_menu": {},
   "number_sections": true,
   "sideBar": true,
   "skip_h1_title": false,
   "toc_cell": false,
   "toc_position": {},
   "toc_section_display": "block",
   "toc_window_display": false
  }
 },
 "nbformat": 4,
 "nbformat_minor": 2
}
